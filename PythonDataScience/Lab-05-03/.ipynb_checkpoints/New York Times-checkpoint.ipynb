{
 "cells": [
  {
   "cell_type": "markdown",
   "metadata": {},
   "source": [
    "# New York Times\n",
    "## Due Tuesday, May 10 at 8 AM\n",
    "\n",
    "This lab will give you experience working with a RESTful API which returns data in JSON format. We will be working with data from The New York Times' Article Search API. The first step is to register for an API key [here](http://developer.nytimes.com/page). You will need to pass this API key every time you issue a request.\n",
    "\n",
    "You will need a partner for the last portion of this assignment. You will write data science questions for each other to answer!"
   ]
  },
  {
   "cell_type": "markdown",
   "metadata": {
    "deletable": false,
    "nbgrader": {
     "checksum": "60dcb723395af9f87f7081a36574cb41",
     "grade": false,
     "grade_id": "slo_question",
     "locked": true,
     "solution": false
    }
   },
   "source": [
    "## Question 1 (20 points)\n",
    "\n",
    "Fetch the 10 most recent New York Times articles that mention \"San Luis Obispo\". Display the date of the article, the news desk (e.g., Sports, Travel, Leisure, etc.), and the snippet (a sentence summarizing the article). You may display this information in a Pandas DataFrame or in any other way you see fit."
   ]
  },
  {
   "cell_type": "code",
   "execution_count": 1,
   "metadata": {
    "collapsed": false,
    "deletable": false,
    "nbgrader": {
     "checksum": "f5b8fdfea75f84ed55662d1b2bd315ac",
     "grade": true,
     "grade_id": "slo_response",
     "locked": false,
     "points": 20,
     "solution": true
    }
   },
   "outputs": [],
   "source": [
    "from urllib.request import urlopen\n",
    "import pandas as pd\n",
    "import numpy as np\n",
    "req = urlopen(\"https://api.nytimes.com/svc/search/v2/articlesearch.json?q=San+Luis+Obispo&page=0&sort=newest&fl=pub_date,news_desk,snippet&api-key=4c1d8689886c4af0883f493704830581\")\n",
    "import json\n"
   ]
  },
  {
   "cell_type": "code",
   "execution_count": 2,
   "metadata": {
    "collapsed": false
   },
   "outputs": [],
   "source": [
    "articleinfo = req.read()"
   ]
  },
  {
   "cell_type": "code",
   "execution_count": 3,
   "metadata": {
    "collapsed": false
   },
   "outputs": [],
   "source": [
    "test = articleinfo.decode(\"utf-8\")"
   ]
  },
  {
   "cell_type": "code",
   "execution_count": 4,
   "metadata": {
    "collapsed": false
   },
   "outputs": [],
   "source": [
    "jsonformat = json.loads(test)"
   ]
  },
  {
   "cell_type": "code",
   "execution_count": 5,
   "metadata": {
    "collapsed": false
   },
   "outputs": [],
   "source": [
    "date = []\n",
    "news_desk = []\n",
    "snippet = [] \n",
    "for i in range(0,10):\n",
    "    date.append(jsonformat['response']['docs'][i]['pub_date'])\n",
    "    news_desk.append(jsonformat['response']['docs'][i]['news_desk'])\n",
    "    snippet.append(jsonformat['response']['docs'][i]['snippet'])\n",
    "    "
   ]
  },
  {
   "cell_type": "code",
   "execution_count": 6,
   "metadata": {
    "collapsed": false
   },
   "outputs": [
    {
     "data": {
      "text/html": [
       "<div>\n",
       "<table border=\"1\" class=\"dataframe\">\n",
       "  <thead>\n",
       "    <tr style=\"text-align: right;\">\n",
       "      <th></th>\n",
       "      <th>publish date</th>\n",
       "      <th>news_desk</th>\n",
       "      <th>snippet</th>\n",
       "    </tr>\n",
       "  </thead>\n",
       "  <tbody>\n",
       "    <tr>\n",
       "      <th>0</th>\n",
       "      <td>2016-05-06T00:00:00Z</td>\n",
       "      <td>Business</td>\n",
       "      <td>The company will pare its presence in its electric vehicle charging business, and its home solar division will sell future customer agreements it originates to two partners.</td>\n",
       "    </tr>\n",
       "    <tr>\n",
       "      <th>1</th>\n",
       "      <td>2016-05-01T05:43:37Z</td>\n",
       "      <td>None</td>\n",
       "      <td>When Carly Fiorina spoke at the California Republican Party convention at a hotel outside San Francisco airport, it was a brief homecoming of sorts for the newly minted vice presidential candidate.</td>\n",
       "    </tr>\n",
       "    <tr>\n",
       "      <th>2</th>\n",
       "      <td>2016-04-30T12:09:30Z</td>\n",
       "      <td>None</td>\n",
       "      <td>When Carly Fiorina spoke at the California Republican Party convention at a hotel outside San Francisco airport Saturday night, it was a brief homecoming of sorts for the newly minted vice presidential candidate.</td>\n",
       "    </tr>\n",
       "    <tr>\n",
       "      <th>3</th>\n",
       "      <td>2016-04-07T20:02:32Z</td>\n",
       "      <td>None</td>\n",
       "      <td>Los Angeles County's decision to put a cross to its county seal for the first time in a decade was unconstitutional, a federal judge ruled.</td>\n",
       "    </tr>\n",
       "    <tr>\n",
       "      <th>4</th>\n",
       "      <td>2016-04-01T13:23:47Z</td>\n",
       "      <td>None</td>\n",
       "      <td>Tufts coach Carla Berube says Geno Auriemma would recognize a lot of the things she does in practice with her Jumbos.</td>\n",
       "    </tr>\n",
       "    <tr>\n",
       "      <th>5</th>\n",
       "      <td>2016-03-29T00:00:00Z</td>\n",
       "      <td>Summary</td>\n",
       "      <td>Corrections appearing in print on Tuesday, March 29, 2016.</td>\n",
       "    </tr>\n",
       "    <tr>\n",
       "      <th>6</th>\n",
       "      <td>2016-03-27T00:00:00Z</td>\n",
       "      <td>National</td>\n",
       "      <td>Mr. Ebeling, who lobbied alongside his colleagues for the postponement of the shuttle’s launch, carried the burden of the disaster throughout his life.</td>\n",
       "    </tr>\n",
       "    <tr>\n",
       "      <th>7</th>\n",
       "      <td>2016-03-11T00:00:00Z</td>\n",
       "      <td>Weekend</td>\n",
       "      <td>None</td>\n",
       "    </tr>\n",
       "    <tr>\n",
       "      <th>8</th>\n",
       "      <td>2016-02-09T18:05:11Z</td>\n",
       "      <td>None</td>\n",
       "      <td>When Toyota Motor looked to the future at the turn of the millennium and aimed its new, edgy Scion small-car brand at twenty-somethings, it could not have guessed that the model would be dead after just 12 years.</td>\n",
       "    </tr>\n",
       "    <tr>\n",
       "      <th>9</th>\n",
       "      <td>2016-02-01T00:00:00Z</td>\n",
       "      <td>Business</td>\n",
       "      <td>Microsoft sank a data center on the ocean floor, where the sea water acts as a coolant, and plans to use the waves to power it. The results were encouraging enough to try a bigger version.</td>\n",
       "    </tr>\n",
       "  </tbody>\n",
       "</table>\n",
       "</div>"
      ],
      "text/plain": [
       "           publish date news_desk  \\\n",
       "0  2016-05-06T00:00:00Z  Business   \n",
       "1  2016-05-01T05:43:37Z  None       \n",
       "2  2016-04-30T12:09:30Z  None       \n",
       "3  2016-04-07T20:02:32Z  None       \n",
       "4  2016-04-01T13:23:47Z  None       \n",
       "5  2016-03-29T00:00:00Z  Summary    \n",
       "6  2016-03-27T00:00:00Z  National   \n",
       "7  2016-03-11T00:00:00Z  Weekend    \n",
       "8  2016-02-09T18:05:11Z  None       \n",
       "9  2016-02-01T00:00:00Z  Business   \n",
       "\n",
       "                                                                                                                                                                                                                snippet  \n",
       "0  The company will pare its presence in its electric vehicle charging business, and its home solar division will sell future customer agreements it originates to two partners.                                         \n",
       "1  When Carly Fiorina spoke at the California Republican Party convention at a hotel outside San Francisco airport, it was a brief homecoming of sorts for the newly minted vice presidential candidate.                 \n",
       "2  When Carly Fiorina spoke at the California Republican Party convention at a hotel outside San Francisco airport Saturday night, it was a brief homecoming of sorts for the newly minted vice presidential candidate.  \n",
       "3  Los Angeles County's decision to put a cross to its county seal for the first time in a decade was unconstitutional, a federal judge ruled.                                                                           \n",
       "4  Tufts coach Carla Berube says Geno Auriemma would recognize a lot of the things she does in practice with her Jumbos.                                                                                                 \n",
       "5  Corrections appearing in print on Tuesday, March 29, 2016.                                                                                                                                                            \n",
       "6  Mr. Ebeling, who lobbied alongside his colleagues for the postponement of the shuttle’s launch, carried the burden of the disaster throughout his life.                                                               \n",
       "7  None                                                                                                                                                                                                                  \n",
       "8  When Toyota Motor looked to the future at the turn of the millennium and aimed its new, edgy Scion small-car brand at twenty-somethings, it could not have guessed that the model would be dead after just 12 years.  \n",
       "9  Microsoft sank a data center on the ocean floor, where the sea water acts as a coolant, and plans to use the waves to power it. The results were encouraging enough to try a bigger version.                          "
      ]
     },
     "execution_count": 6,
     "metadata": {},
     "output_type": "execute_result"
    }
   ],
   "source": [
    "pd.set_option('display.max_colwidth', -1)\n",
    "info = pd.DataFrame()\n",
    "info[\"publish date\"] = date\n",
    "info[\"news_desk\"] = news_desk\n",
    "info[\"snippet\"] = snippet\n",
    "info.head(10)"
   ]
  },
  {
   "cell_type": "markdown",
   "metadata": {
    "deletable": false,
    "nbgrader": {
     "checksum": "13bb1157b7d20fae64a0c51973d6bc2d",
     "grade": false,
     "grade_id": "trump_question",
     "locked": true,
     "solution": false
    }
   },
   "source": [
    "## Question 2 (20 points)\n",
    "\n",
    "What is the longest article (by word count) that mentions \"Donald Trump\"? (Be careful: each query returns only 10 results at a time. You will need to iterate over values of the `page` keyword.) Take a look at this article by going to its `web_url`. Does it make sense that this is the longest article? Explain why or why not."
   ]
  },
  {
   "cell_type": "code",
   "execution_count": 7,
   "metadata": {
    "collapsed": false
   },
   "outputs": [],
   "source": [
    "import time\n",
    "page = list(range(0,101))\n",
    "pagestr = [str(i) for i in page]\n",
    "s = \"\"\n",
    "web_url = []\n",
    "word_count = []\n",
    "headline = []\n",
    "for p in pagestr:\n",
    "    trump = urlopen(\"https://api.nytimes.com/svc/search/v2/articlesearch.json?q=Donald+Trump&page=\" + p + \"&sort=newest&fl=headline,web_url,word_count&api-key=4c1d8689886c4af0883f493704830581\")\n",
    "    trumpread = trump.read()\n",
    "    convert = trumpread.decode(\"utf-8\")\n",
    "    jsontrump = json.loads(convert)\n",
    "    for j in range(0,len(jsontrump['response']['docs'])):\n",
    "            web_url.append(jsontrump['response']['docs'][j]['web_url'])\n",
    "            word_count.append(jsontrump['response']['docs'][j]['word_count'])\n",
    "            headline.append(jsontrump['response']['docs'][j]['headline'])"
   ]
  },
  {
   "cell_type": "code",
   "execution_count": 8,
   "metadata": {
    "collapsed": false
   },
   "outputs": [
    {
     "data": {
      "text/html": [
       "<div>\n",
       "<table border=\"1\" class=\"dataframe\">\n",
       "  <thead>\n",
       "    <tr style=\"text-align: right;\">\n",
       "      <th></th>\n",
       "      <th>Headline</th>\n",
       "      <th>Web URL</th>\n",
       "      <th>Word Count</th>\n",
       "    </tr>\n",
       "  </thead>\n",
       "  <tbody>\n",
       "    <tr>\n",
       "      <th>775</th>\n",
       "      <td>{'content_kicker': 'Feature', 'print_headline': 'H Is for Hawk', 'main': 'How Hillary Clinton Became a Hawk', 'kicker': 'Feature'}</td>\n",
       "      <td>http://www.nytimes.com/2016/04/24/magazine/how-hillary-clinton-became-a-hawk.html</td>\n",
       "      <td>6554.0</td>\n",
       "    </tr>\n",
       "    <tr>\n",
       "      <th>464</th>\n",
       "      <td>{'content_kicker': 'The Money Issue', 'print_headline': 'The Obama Recovery', 'main': 'President Obama Weighs His Economic Legacy', 'kicker': 'The Money Issue'}</td>\n",
       "      <td>http://www.nytimes.com/2016/05/01/magazine/president-obama-weighs-his-economic-legacy.html</td>\n",
       "      <td>6017.0</td>\n",
       "    </tr>\n",
       "    <tr>\n",
       "      <th>672</th>\n",
       "      <td>{'print_headline': 'The Latest: Cruz Shoots an Airball at 'Basketball Ring'', 'main': 'The Latest: Cruz Shoots an Airball at 'Basketball Ring''}</td>\n",
       "      <td>http://www.nytimes.com/aponline/2016/04/26/us/politics/ap-us-2016-election-the-latest.html</td>\n",
       "      <td>4870.0</td>\n",
       "    </tr>\n",
       "    <tr>\n",
       "      <th>589</th>\n",
       "      <td>{'main': 'Transcript: Donald Trump’s Foreign Policy Speech'}</td>\n",
       "      <td>http://www.nytimes.com/2016/04/28/us/politics/transcript-trump-foreign-policy.html</td>\n",
       "      <td>4733.0</td>\n",
       "    </tr>\n",
       "    <tr>\n",
       "      <th>316</th>\n",
       "      <td>{'print_headline': 'The Latest: Sen. McConnell Calls on Trump to Unite Party', 'main': 'The Latest: Sen. McConnell Calls on Trump to Unite Party'}</td>\n",
       "      <td>http://www.nytimes.com/aponline/2016/05/04/us/politics/ap-us-campaign-2016-the-latest.html</td>\n",
       "      <td>2889.0</td>\n",
       "    </tr>\n",
       "    <tr>\n",
       "      <th>142</th>\n",
       "      <td>{'main': 'Young Analysts Press the Case for Innovation, and Tolerance, in Pursuing a Post-Carbon Energy Menu', 'kicker': 'Dot Earth'}</td>\n",
       "      <td>http://dotearth.blogs.nytimes.com/2016/05/06/young-analysts-press-the-case-for-innovation-and-tolerance-in-pursuing-a-post-carbon-energy-menu/</td>\n",
       "      <td>2862.0</td>\n",
       "    </tr>\n",
       "    <tr>\n",
       "      <th>625</th>\n",
       "      <td>{'print_headline': 'The Latest: Trump Mocks Cruz Choice of Fiorina for VP', 'main': 'The Latest: Trump Mocks Cruz Choice of Fiorina for VP'}</td>\n",
       "      <td>http://www.nytimes.com/aponline/2016/04/27/us/politics/ap-us-campaign-2016-the-latest-the-latest.html</td>\n",
       "      <td>2768.0</td>\n",
       "    </tr>\n",
       "    <tr>\n",
       "      <th>976</th>\n",
       "      <td>{'main': 'The Perils of Being a Black Philosopher', 'kicker': 'The Stone'}</td>\n",
       "      <td>http://opinionator.blogs.nytimes.com/2016/04/18/the-perils-of-being-a-black-philosopher/</td>\n",
       "      <td>2741.0</td>\n",
       "    </tr>\n",
       "    <tr>\n",
       "      <th>983</th>\n",
       "      <td>{'content_kicker': 'Notebook', 'main': 'What Should We Expect From the Supreme Court’s Showdown Over Immigration?', 'kicker': 'Notebook'}</td>\n",
       "      <td>http://www.nytimes.com/2016/04/18/magazine/what-should-we-expect-from-the-supreme-courts-showdown-over-immigration.html</td>\n",
       "      <td>2741.0</td>\n",
       "    </tr>\n",
       "    <tr>\n",
       "      <th>94</th>\n",
       "      <td>{'print_headline': 'The Pie Maker’s Tale', 'main': 'Striving for Her Piece of the Pie'}</td>\n",
       "      <td>http://www.nytimes.com/2016/05/08/nyregion/striving-for-her-piece-of-the-pie.html</td>\n",
       "      <td>2633.0</td>\n",
       "    </tr>\n",
       "  </tbody>\n",
       "</table>\n",
       "</div>"
      ],
      "text/plain": [
       "                                                                                                                                                             Headline  \\\n",
       "775  {'content_kicker': 'Feature', 'print_headline': 'H Is for Hawk', 'main': 'How Hillary Clinton Became a Hawk', 'kicker': 'Feature'}                                 \n",
       "464  {'content_kicker': 'The Money Issue', 'print_headline': 'The Obama Recovery', 'main': 'President Obama Weighs His Economic Legacy', 'kicker': 'The Money Issue'}   \n",
       "672  {'print_headline': 'The Latest: Cruz Shoots an Airball at 'Basketball Ring'', 'main': 'The Latest: Cruz Shoots an Airball at 'Basketball Ring''}                   \n",
       "589  {'main': 'Transcript: Donald Trump’s Foreign Policy Speech'}                                                                                                       \n",
       "316  {'print_headline': 'The Latest: Sen. McConnell Calls on Trump to Unite Party', 'main': 'The Latest: Sen. McConnell Calls on Trump to Unite Party'}                 \n",
       "142  {'main': 'Young Analysts Press the Case for Innovation, and Tolerance, in Pursuing a Post-Carbon Energy Menu', 'kicker': 'Dot Earth'}                              \n",
       "625  {'print_headline': 'The Latest: Trump Mocks Cruz Choice of Fiorina for VP', 'main': 'The Latest: Trump Mocks Cruz Choice of Fiorina for VP'}                       \n",
       "976  {'main': 'The Perils of Being a Black Philosopher', 'kicker': 'The Stone'}                                                                                         \n",
       "983  {'content_kicker': 'Notebook', 'main': 'What Should We Expect From the Supreme Court’s Showdown Over Immigration?', 'kicker': 'Notebook'}                          \n",
       "94   {'print_headline': 'The Pie Maker’s Tale', 'main': 'Striving for Her Piece of the Pie'}                                                                            \n",
       "\n",
       "                                                                                                                                            Web URL  \\\n",
       "775  http://www.nytimes.com/2016/04/24/magazine/how-hillary-clinton-became-a-hawk.html                                                                \n",
       "464  http://www.nytimes.com/2016/05/01/magazine/president-obama-weighs-his-economic-legacy.html                                                       \n",
       "672  http://www.nytimes.com/aponline/2016/04/26/us/politics/ap-us-2016-election-the-latest.html                                                       \n",
       "589  http://www.nytimes.com/2016/04/28/us/politics/transcript-trump-foreign-policy.html                                                               \n",
       "316  http://www.nytimes.com/aponline/2016/05/04/us/politics/ap-us-campaign-2016-the-latest.html                                                       \n",
       "142  http://dotearth.blogs.nytimes.com/2016/05/06/young-analysts-press-the-case-for-innovation-and-tolerance-in-pursuing-a-post-carbon-energy-menu/   \n",
       "625  http://www.nytimes.com/aponline/2016/04/27/us/politics/ap-us-campaign-2016-the-latest-the-latest.html                                            \n",
       "976  http://opinionator.blogs.nytimes.com/2016/04/18/the-perils-of-being-a-black-philosopher/                                                         \n",
       "983  http://www.nytimes.com/2016/04/18/magazine/what-should-we-expect-from-the-supreme-courts-showdown-over-immigration.html                          \n",
       "94   http://www.nytimes.com/2016/05/08/nyregion/striving-for-her-piece-of-the-pie.html                                                                \n",
       "\n",
       "     Word Count  \n",
       "775  6554.0      \n",
       "464  6017.0      \n",
       "672  4870.0      \n",
       "589  4733.0      \n",
       "316  2889.0      \n",
       "142  2862.0      \n",
       "625  2768.0      \n",
       "976  2741.0      \n",
       "983  2741.0      \n",
       "94   2633.0      "
      ]
     },
     "execution_count": 8,
     "metadata": {},
     "output_type": "execute_result"
    }
   ],
   "source": [
    "trump2016 = pd.DataFrame()\n",
    "word_count = pd.to_numeric(word_count)\n",
    "trump2016[\"Headline\"] = headline\n",
    "trump2016[\"Web URL\"] = web_url\n",
    "trump2016[\"Word Count\"] = word_count\n",
    "trump2016.sort_values(\"Word Count\", ascending= False).head(10)"
   ]
  },
  {
   "cell_type": "markdown",
   "metadata": {
    "deletable": false,
    "nbgrader": {
     "checksum": "470cb8f168247e472706e8a1b63b9a08",
     "grade": true,
     "grade_id": "trump_response",
     "locked": false,
     "points": 20,
     "solution": true
    }
   },
   "source": [
    "The longest article is 'Transcript: Donald Trump Expounds on His Foreign Policy Views' with a word count of 15852.0 words.\n",
    "Looking at the acticle this makes complete sense because the article contains the entire transcipt of telephone conversations between trump and interviewers. The article is an entire conversation not a summary of it. "
   ]
  },
  {
   "cell_type": "markdown",
   "metadata": {
    "nbgrader": {
     "grade": false,
     "locked": false,
     "solution": false
    }
   },
   "source": [
    "## Question 3 (30 points)\n",
    "\n",
    "Find something else interesting in the New York Times article data. Then, pose your finding as a question and give it to your partner to answer. You will be graded on how interesting your finding is, as well as on how well you state your question.\n",
    "\n",
    "(In the space below, you should do the analysis, summarize the findings, **and** state the question.)"
   ]
  },
  {
   "cell_type": "code",
   "execution_count": 9,
   "metadata": {
    "collapsed": false
   },
   "outputs": [],
   "source": [
    "import time\n",
    "pubdate = []\n",
    "page = list(range(0,101))\n",
    "pagestr = [str(i) for i in page]\n",
    "for p in pagestr:\n",
    "    GlobalWarming = urlopen(\"https://api.nytimes.com/svc/search/v2/articlesearch.json?q=Global+Warming&page=\" + p + \"&fl=pub_date&api-key=4c1d8689886c4af0883f493704830581\")\n",
    "    gwread = GlobalWarming.read()\n",
    "    strgw = gwread.decode(\"utf-8\")\n",
    "    jsonglobal = json.loads(strgw)\n",
    "    for j in range(0,len(jsonglobal['response']['docs'])):\n",
    "            pubdate.append(jsonglobal['response']['docs'][j][\"pub_date\"])\n",
    "    time.sleep(1)"
   ]
  },
  {
   "cell_type": "code",
   "execution_count": 10,
   "metadata": {
    "collapsed": false
   },
   "outputs": [],
   "source": [
    "years = []\n",
    "months = []\n",
    "pubdate = filter(None,pubdate)\n",
    "for string in pubdate:\n",
    "    subyear = string[0:4]\n",
    "    years.append(subyear)\n",
    "    submonth = string[5:7]\n",
    "    months.append(submonth)\n"
   ]
  },
  {
   "cell_type": "code",
   "execution_count": 11,
   "metadata": {
    "collapsed": false
   },
   "outputs": [],
   "source": [
    "globaldata = pd.DataFrame()\n",
    "years = pd.to_numeric(years)\n",
    "months = pd.to_numeric(months)\n",
    "globaldata[\"year\"] = years\n",
    "globaldata[\"month\"] = months"
   ]
  },
  {
   "cell_type": "code",
   "execution_count": 12,
   "metadata": {
    "collapsed": false
   },
   "outputs": [],
   "source": [
    "grouped = globaldata.groupby(\"year\").size().reset_index()"
   ]
  },
  {
   "cell_type": "code",
   "execution_count": 13,
   "metadata": {
    "collapsed": false
   },
   "outputs": [],
   "source": [
    "\n",
    "grouped.columns = [\"year\", \"freq\"]"
   ]
  },
  {
   "cell_type": "code",
   "execution_count": 14,
   "metadata": {
    "collapsed": false
   },
   "outputs": [
    {
     "data": {
      "image/png": "[encoded data removed]",
      "text/plain": [
       "<matplotlib.figure.Figure at 0x7f8c1d8379e8>"
      ]
     },
     "metadata": {},
     "output_type": "display_data"
    }
   ],
   "source": [
    "import matplotlib.pyplot as plt\n",
    "import seaborn as sns\n",
    "%matplotlib inline\n",
    "plt.figure(figsize=(20,15))\n",
    "plt.plot(grouped.year, grouped.freq, \"k-+\", alpha=.8)\n",
    "plt.xlabel(\"Years\")\n",
    "plt.ylabel(\"number of articles\")\n",
    "plt.show()"
   ]
  },
  {
   "cell_type": "markdown",
   "metadata": {
    "deletable": false,
    "nbgrader": {
     "checksum": "5046561d1a95ff2af7bcd1fea612496e",
     "grade": true,
     "grade_id": "own_response",
     "locked": false,
     "points": 30,
     "solution": true
    }
   },
   "source": [
    "__Question__ : It seems that Global Warming is a topic that isn't talked about consistently, that is, it goes through phases of being a hot topic (pun intended) to not being on the news. I have personally noticed it was a huge topic when I was in middle school(2006-2008) then it died down a little. Recently, though, I have noticed that it has had a resurgence in news coverage. Is my perception off or am I correct? Construct a visual that diplays the popularity of Global Warming articles from New York Times. \n",
    "\n",
    "From the plot above we can see that the number of articles that were published from year to year that contained the key word 'global warming' flucuates. In particuliar, the topic was virtually not talked about until around 2005-2006 where it became realtively immensley popular. THe topic died down and remained fairly constant in terms of coverage between 2008-2013 but since then it has consitently risen. It appears that the topic of global warming is on the rise again. I would guess this is largely due to recent weather phenomenon such as the huge droughts occuring in Southern Africa and California right now. "
   ]
  },
  {
   "cell_type": "markdown",
   "metadata": {
    "nbgrader": {
     "grade": false,
     "locked": false,
     "solution": false
    }
   },
   "source": [
    "## Question 4 (20 points)\n",
    "\n",
    "In the space below, write down the question that was posed to you by your partner. Then do the analysis that answers that question and summarize your findings."
   ]
  },
  {
   "cell_type": "markdown",
   "metadata": {
    "deletable": false,
    "nbgrader": {
     "checksum": "dc986ab95cc868bde93c7827f27c95ac",
     "grade": true,
     "grade_id": "peer_response",
     "locked": false,
     "points": 20,
     "solution": true
    }
   },
   "source": [
    "__Question__ : How many articles on computer science are about women? How many are about men? Is there a certain trend these articles follow? For example, articles that are about women and computer science being more about creating diversity while articles about men and computer science being about success."
   ]
  },
  {
   "cell_type": "code",
   "execution_count": 15,
   "metadata": {
    "collapsed": false
   },
   "outputs": [],
   "source": [
    "page = list(range(0,101))\n",
    "pagestr = [str(i) for i in page]\n",
    "s = \"\"\n",
    "male_web_url = []\n",
    "female_web_url = []\n",
    "female_snippets = []\n",
    "male_snippets = []\n",
    "for p in pagestr:\n",
    "    males = urlopen(\"https://api.nytimes.com/svc/search/v2/articlesearch.json?q=computer+science&page=\" + p + \"&sort=newest&fq=men,male,his,him,he&fl=snippet,web_url&api-key=4c1d8689886c4af0883f493704830581\")\n",
    "    maleread = males.read()\n",
    "    maleconvert = maleread.decode(\"utf-8\")\n",
    "    jsonmale = json.loads(maleconvert)\n",
    "    females = urlopen(\"https://api.nytimes.com/svc/search/v2/articlesearch.json?q=computer+science&page=\" + p + \"&sort=newest&fq=women,female,hers,her,she&fl=snippet,web_url&api-key=4c1d8689886c4af0883f493704830581\")\n",
    "    femaleread = females.read()\n",
    "    femaleconvert = femaleread.decode(\"utf-8\")\n",
    "    jsonfemale = json.loads(femaleconvert)\n",
    "    for j in range(0,len(jsonmale['response']['docs'])):\n",
    "            male_web_url.append(jsonmale['response']['docs'][j]['web_url'])\n",
    "            male_snippets.append(jsonmale['response']['docs'][j]['snippet'])\n",
    "    for k in range(0,len(jsonfemale['response']['docs'])):\n",
    "            female_web_url.append(jsonfemale['response']['docs'][k]['web_url'])\n",
    "            female_snippets.append(jsonfemale['response']['docs'][k]['snippet'])"
   ]
  },
  {
   "cell_type": "code",
   "execution_count": 16,
   "metadata": {
    "collapsed": false
   },
   "outputs": [],
   "source": [
    "maledata = pd.DataFrame()\n",
    "femaledata = pd.DataFrame()\n",
    "maledata[\"url\"] = male_web_url\n",
    "maledata[\"snippet\"] = male_snippets\n",
    "femaledata[\"url\"] = female_web_url\n",
    "femaledata[\"snippet\"] = female_snippets"
   ]
  },
  {
   "cell_type": "code",
   "execution_count": 17,
   "metadata": {
    "collapsed": false
   },
   "outputs": [],
   "source": [
    "malemerge = pd.merge(maledata, femaledata, on=\"url\", how=\"left\" )\n",
    "femalemerge = pd.merge(femaledata, maledata, on=\"url\", how=\"left\" )\n"
   ]
  },
  {
   "cell_type": "code",
   "execution_count": 18,
   "metadata": {
    "collapsed": false
   },
   "outputs": [],
   "source": [
    "femalemerge = femalemerge.fillna(\"strictly_female\")\n",
    "onlyfemale = femalemerge[femalemerge.snippet_y == \"strictly_female\"]\n",
    "malemerge = malemerge.fillna(\"strictly_male\")\n",
    "onlymale = malemerge[malemerge.snippet_y == \"strictly_male\"]\n",
    "\n"
   ]
  },
  {
   "cell_type": "code",
   "execution_count": 19,
   "metadata": {
    "collapsed": false
   },
   "outputs": [
    {
     "data": {
      "text/plain": [
       "0"
      ]
     },
     "execution_count": 19,
     "metadata": {},
     "output_type": "execute_result"
    }
   ],
   "source": [
    "len(onlymale.url) - len(onlyfemale.url)"
   ]
  },
  {
   "cell_type": "markdown",
   "metadata": {},
   "source": [
    "There was no way to receive the entire article from the queries so I made two dataframes based on two different queries, one filtering computer sceince articles that contain male gender pronouns and one filtering based on containg female gender pronouns. I then went on to find how many articles in each dataframe were unique to there query by doing a left outer join on both dataframes. This warranted EXACTLY 453 one gender focused articles in both data frames. With this in mind I will now address the rest of the question. \n"
   ]
  },
  {
   "cell_type": "code",
   "execution_count": 20,
   "metadata": {
    "collapsed": false
   },
   "outputs": [],
   "source": [
    "num_diversity = onlyfemale.snippet_x.str.contains(r'diverse|diversity|gender gap|equal pay|representation').sum()\n",
    "num_success =  onlymale.snippet_x.str.contains(r'success|money|power').sum()\n",
    "porp_f = num_diversity / 453\n",
    "prop_m = num_success /453"
   ]
  },
  {
   "cell_type": "code",
   "execution_count": 21,
   "metadata": {
    "collapsed": false
   },
   "outputs": [
    {
     "name": "stdout",
     "output_type": "stream",
     "text": [
      "articles about diversity for females: 0.008830\n",
      "articles about success/power for males 0.022075 \n"
     ]
    }
   ],
   "source": [
    "print(\"articles about diversity for females: %f\" % porp_f)\n",
    "print(\"articles about success/power for males %f \" % prop_m)"
   ]
  },
  {
   "cell_type": "markdown",
   "metadata": {},
   "source": [
    "using some keywords I searched every strictly female centered article and found that .009 of the articles contained keywords that have to due with representation and diversity in the article. I did a similiar technique for the male articles and found that about 2.2% of the articles snippets indicated it was about power/succeess. "
   ]
  }
 ],
 "metadata": {
  "kernelspec": {
   "display_name": "Python 3",
   "language": "python",
   "name": "python3"
  },
  "language_info": {
   "codemirror_mode": {
    "name": "ipython",
    "version": 3
   },
   "file_extension": ".py",
   "mimetype": "text/x-python",
   "name": "python",
   "nbconvert_exporter": "python",
   "pygments_lexer": "ipython3",
   "version": "3.4.3"
  }
 },
 "nbformat": 4,
 "nbformat_minor": 0
}
