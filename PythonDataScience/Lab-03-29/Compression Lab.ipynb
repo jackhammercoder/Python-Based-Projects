{
 "cells": [
  {
   "cell_type": "code",
   "execution_count": null,
   "metadata": {
    "collapsed": true,
    "nbgrader": {
     "grade": false,
     "locked": false,
     "solution": false
    }
   },
   "outputs": [],
   "source": [
    "# Compression Lab\n",
    "\n",
    "Due Tuesday, April 5 at 8 AM"
   ]
  },
  {
   "cell_type": "markdown",
   "metadata": {
    "nbgrader": {
     "grade": false,
     "locked": false,
     "solution": false
    }
   },
   "source": [
    "## Introduction\n",
    "\n",
    "The goal of compression is to represent a file using fewer bits. Compression was obviously very important many years ago when hard drive storage was measured in megabytes, not gigabytes or terabytes. But it remains relevant today in the age of small personal devices and big data. If the music on your phone were stored as uncompressed WAV files, you wouldn't be able to fit much music; fortunately, MP3 files are often about 10 times smaller. At the other extreme, even data centers that can store petabytes of data are struggling to keep up with satellites that are beaming terabytes of data back to Earth every second. Compression remains a relevant problem in the modern world.\n",
    "\n",
    "There are two kinds of compression: lossy and lossless. Lossy compression is straightforward; to achieve a smaller file, we throw away some (hopefully less important) data. For example, MP3 leverages research on human psychoacoustics to discard frequencies that we wouldn't be able to hear anyway. On the other hand, lossless compression seems too good to be true. How can it be possible to achieve a smaller file without losing anything at all? We explore this question in this lab."
   ]
  },
  {
   "cell_type": "markdown",
   "metadata": {
    "nbgrader": {
     "grade": false,
     "locked": false,
     "solution": false
    }
   },
   "source": [
    "# ## Huffman Coding\n",
    "\n",
    "In a uniform coding scheme, we use an equal number of bits to represent \n",
    "every symbol. For example, if there were 5 symbols in our world, a uniform\n",
    "coding scheme might use a 3-bit code for each symbol:\n",
    "\n",
    "A | B | C | D | E \n",
    ":--:|:--:|:--:|:--:|:--:\n",
    "000 | 001 | 010 | 011 | 100\n",
    "\n",
    "A table like this one that maps symbols to their codes is called a *codebook*.\n",
    "\n",
    "But not all symbols are equally common. Suppose the actual probabilities \n",
    "of each letter were\n",
    "\n",
    "A | B | C | D | E \n",
    ":--:|:--:|:--:|:--:|:--:\n",
    ".05 | .15 | .20 | .25 | .35\n",
    "\n",
    "If we used a shorter code to represent E, maybe we could have a shorter \n",
    "text on average. Huffman coding does exactly this. It constructs a code for \n",
    "each symbol using the following algorithm:\n",
    "\n",
    "1. Find the two symbols with the smallest probabilities. Add a 1 to \n",
    "the beginning of the code for one symbol and a 0 to \n",
    "the beginning of the code for the other. (So far, the code for A is \"1\" and \n",
    "the code for B is \"0\".)\n",
    "2. \"Merge\" those two symbols, and treat this merged symbol as a \n",
    "single symbol whose probability is the sum of the probabilities of the two \n",
    "symbols you merged. Repeat Steps \n",
    "1 and 2. (We now have a symbol AB whose probability is $.05 + .15 = .2$.\n",
    "The two symbols now with the smallest probabilities are now \n",
    "AB and C. So we prepend a 1 to the beginning of the codes for A and B \n",
    "and a 0 to the beginning of the code for C. So the code for A becomes \"11\", \n",
    "the code for B becomes \"10\", and the code for C becomes \"0\".)\n",
    "3. Repeat until all the symbols have been merged together.\n",
    "\n",
    "To check your understanding of Huffman coding, follow the instructions \n",
    "above and make sure you get a codebook that looks like:\n",
    "\n",
    "A | B | C | D | E \n",
    ":--:|:--:|:--:|:--:|:--:\n",
    "111 | 110 | 10 | 01 | 00\n",
    "\n",
    "(You might get something slightly different depending on which symbol you \n",
    "assigned a 1 to and which symbol you assigned a 0 to, at each step. As long as \n",
    "your codes are all of the same length, you should be okay.)\n",
    "\n",
    "Let $L$ represent the length of the code for a randomly chosen symbol. Under \n",
    "uniform coding, $L=3$. Under Huffman coding:\n",
    "$$ \\textrm{E}[L] = .05(3) + .15(3) + .2(2) + .25(2) + .35(2) = 2.4. $$\n",
    "\n",
    "In this lab, you will implement a simple Huffman coder. The first function has been implemented for you. You will have to implement three others."
   ]
  },
  {
   "cell_type": "code",
   "execution_count": 83,
   "metadata": {
    "collapsed": true,
    "deletable": false,
    "nbgrader": {
     "checksum": "7c8ed0c129a482bf414e19f405688822",
     "grade": false,
     "grade_id": "character_counts",
     "locked": true,
     "solution": false
    }
   },
   "outputs": [],
   "source": [
    "def get_character_counts(text):\n",
    "    \"\"\"Count the number of occurrences of each symbol in a text.                                  \n",
    "                                                                                                  \n",
    "    Arguments:                                                                                    \n",
    "    text -- string of text                                                                        \n",
    "                                                                                                  \n",
    "    Output:                                                                                       \n",
    "    a dict that maps symbols to the number of times they appear                                   \n",
    "      in the text                                                                                 \n",
    "    \"\"\"\n",
    "    counts = {}\n",
    "    # iterate over the characters in our text                                                     \n",
    "    for char in text:\n",
    "        # if this character is not already in our dict, add it                                    \n",
    "        # (with a count of 1)                                                                     \n",
    "        if char not in counts:\n",
    "            counts[char] = 1\n",
    "        # otherwise, add 1 to its count                                                           \n",
    "        else:\n",
    "            counts[char] += 1\n",
    "    return counts"
   ]
  },
  {
   "cell_type": "code",
   "execution_count": 101,
   "metadata": {
    "collapsed": false,
    "deletable": false,
    "nbgrader": {
     "checksum": "0b4cea6e0f1385223d797f3f39c69fb8",
     "grade": true,
     "grade_id": "codebook",
     "locked": false,
     "points": 50,
     "solution": true
    }
   },
   "outputs": [],
   "source": [
    "def generate_codebook(character_counts):\n",
    "    \"\"\"Uses Huffman coding to generate a codebook from character \n",
    "    counts / probabilities.\n",
    "\n",
    "    Arguments:\n",
    "    character_counts -- a dict that maps each character to either \n",
    "      its count or its probability.\n",
    "                                                                                                  \n",
    "    Output:                                                                                       \n",
    "    a dict that maps symbols to a code consisting of 0's and 1's                                      \n",
    "    \"\"\"\n",
    "\n",
    "    # initialize codebook with the same characters as character_counts                                   \n",
    "    codebook = {}\n",
    "    for symbol in character_counts.keys():\n",
    "        codebook[symbol] = \"\"\n",
    "\n",
    "    # YOUR CODE HERE\n",
    "    finished = \"\"\n",
    "    def sort_fun(x): ## need a key function for sorting\n",
    "       return x[1]\n",
    "    character_list = list(character_counts.items())\n",
    "    while len(character_list) > 1:\n",
    "       key_finished = 0\n",
    "       character_list.sort(key=sort_fun) # sort the list in ascending order\n",
    "       tempchr1 = character_list[0][0] # get the first item in the list. \n",
    "       tempchr2 = character_list[1][0] # get the second item in the list\n",
    "       finished = tempchr1 + tempchr2 # this is the new thing we add to our list.\n",
    "       character_list.remove((tempchr2, character_counts[tempchr2]))  #remove this from the list  \n",
    "       character_list.remove((tempchr1,character_counts[tempchr1])) # remove this character \n",
    "       for letter in tempchr1:\n",
    "            key_finished = key_finished + character_counts[letter]\n",
    "            codebook[letter] = \"1\" + codebook[letter] ## append a 1 to the smallest probability code\n",
    "       for l in tempchr2:\n",
    "             key_finished = key_finished + character_counts[l]\n",
    "             codebook[l] = \"0\" + codebook[l] ## append a 0 to the second smallest\n",
    "       character_counts[finished] = key_finished\n",
    "       character_list.append((finished,character_counts[finished]))\n",
    " \n",
    "    return codebook"
   ]
  },
  {
   "cell_type": "code",
   "execution_count": 102,
   "metadata": {
    "collapsed": true,
    "deletable": false,
    "nbgrader": {
     "checksum": "23eb2d898fb4b9cd6522fd9a679cebc3",
     "grade": true,
     "grade_id": "encode",
     "locked": false,
     "points": 20,
     "solution": true
    }
   },
   "outputs": [],
   "source": [
    "def encode(text, codebook):\n",
    "    \"\"\"Encodes a text using codebook.                                                             \n",
    "                                                                                                  \n",
    "    Arguments:                                                                                    \n",
    "    text -- string of text to encode                                                              \n",
    "    codebook -- dict that maps each symbol to a string of 0's and 1's                             \n",
    "                                                                                                  \n",
    "    Output:                                                                                       \n",
    "    a string of 0's and 1's representing the encoded text                                         \n",
    "    \"\"\"\n",
    "    encoded_text = \"\"\n",
    "\n",
    "    # YOUR CODE HERE\n",
    "    for char in text: ## look at each character in the text\n",
    "        code_to_add = codebook[char] ## get its bit code\n",
    "        encoded_text = encoded_text + code_to_add ## add it to the endoced string\n",
    "\n",
    "    return encoded_text"
   ]
  },
  {
   "cell_type": "code",
   "execution_count": 113,
   "metadata": {
    "collapsed": true,
    "deletable": false,
    "nbgrader": {
     "checksum": "7c4d0fbad4a9539a115359f73af86514",
     "grade": true,
     "grade_id": "decode",
     "locked": false,
     "points": 20,
     "solution": true
    }
   },
   "outputs": [],
   "source": [
    "def decode(encoded_text, codebook):\n",
    "    \"\"\"Decodes encoded text using codebook.                                                       \n",
    "                                                                                                  \n",
    "    Arguments:                                                                                    \n",
    "    encoded_text -- a string of 0's and 1's representing the encoded text                         \n",
    "    codebook -- dict that maps each symbol to a code string of 0's and 1's                        \n",
    "                                                                                                  \n",
    "    Output:                                                                                       \n",
    "    a string representing the decoded text                                                        \n",
    "    \"\"\"\n",
    "    decoded_text = \"\"\n",
    "\n",
    "    # reverse the codebook so that it maps code strings back to symbols                           \n",
    "    reverse_codebook = {val: key for key, val in codebook.items()}\n",
    "\n",
    "    # YOUR CODE HERE\n",
    "    key = \"\"\n",
    "    for bit in encoded_text : ## get each bit in the encoded text\n",
    "        key = key + bit # add it to the key variable \n",
    "        if key in reverse_codebook: ## now the key is actually in the book   \n",
    "           text_to_add = reverse_codebook[key] ## look up the character that corresponds to the key\n",
    "           decoded_text = decoded_text + text_to_add ## add this character to the decoded string\n",
    "           key = \"\" ## reset the key to nothing. \n",
    "            \n",
    "    return decoded_text"
   ]
  },
  {
   "cell_type": "markdown",
   "metadata": {},
   "source": [
    "If you implemented the codebook, encode, and decode functions correctly, the code below should compress _War and Peace_ and return some sensible output."
   ]
  },
  {
   "cell_type": "code",
   "execution_count": 115,
   "metadata": {
    "collapsed": false,
    "deletable": false,
    "nbgrader": {
     "checksum": "afc8327d3c1532e9c2e91c998da98a96",
     "grade": false,
     "grade_id": "self_test",
     "locked": true,
     "solution": false
    }
   },
   "outputs": [
    {
     "name": "stdout",
     "output_type": "stream",
     "text": [
      "First 1000 bits of encoded text: %s0111000111011110001001010010111101001001000010000000011010010010111000001000010001110011010010100111000010010100100101110000101011100001000001000001000111000000101000001000010000010011110000010111000101000011111101010110001010000001000001000001000111000000011100011110111000111100001000011000101110001111011100000101110000100000101110000001000010000011110111000111011000010111000101001110001110111010001000001000001000001000001000111000010100010110001010010011010010100111000100111000010000001000000001000101111000100000100000010011010010111111011110111110101000110100101000000101110010001101111010100011101100000100001000010111110011000011000101101001010000010000100000100000011000110000110011000101100000011100110011000010010001000010001100000111101010100101001101100001111011011111010000011111101010101100101111110100110000100110010101110011100010001110000000000111000100101101010110110000000101111110100010100010111000000000011010100100010111100101001001100000010010011010001000000011101010001101\n",
      "The total length of the encoded text is 14390892.\n",
      "First 1000 characters of decoded text:\n",
      "﻿WAR AND PEACE\n",
      "\n",
      "By Leo Tolstoy\n",
      "\n",
      "\n",
      "BOOK ONE: 1805\n",
      "\n",
      "\n",
      "\n",
      "\n",
      "CHAPTER I\n",
      "\n",
      "\"Well, Prince, so Genoa and Lucca are now just family estates of the\n",
      "Buonapartes. But I warn you, if you don't tell me that this means war,\n",
      "if you still try to defend the infamies and horrors perpetrated by that\n",
      "Antichrist--I really believe he is Antichrist--I will have nothing more\n",
      "to do with you and you are no longer my friend, no longer my 'faithful\n",
      "slave,' as you call yourself! But how do you do? I see I have frightened\n",
      "you--sit down and tell me all the news.\"\n",
      "\n",
      "It was in July, 1805, and the speaker was the well-known Anna Pavlovna\n",
      "Scherer, maid of honor and favorite of the Empress Marya Fedorovna. With\n",
      "these words she greeted Prince Vasili Kuragin, a man of high rank and\n",
      "importance, who was the first to arrive at her reception. Anna Pavlovna\n",
      "had had a cough for some days. She was, as she said, suffering from la\n",
      "grippe; grippe being then a new word in St. Petersburg, used only by the\n",
      "elite.\n",
      "\n",
      "All her invitations without e\n"
     ]
    }
   ],
   "source": [
    "with open(\"/data/warandpeace.txt\", \"r\") as f:\n",
    "    text = f.read()\n",
    "  \n",
    "character_counts = get_character_counts(text)\n",
    "codebook = generate_codebook(character_counts)\n",
    "encoded_text = encode(text, codebook)\n",
    "decoded_text = decode(encoded_text, codebook)\n",
    "\n",
    "print(\"First 1000 bits of encoded text: %s\" + encoded_text[:1000])\n",
    "print(\"The total length of the encoded text is %d.\" % len(encoded_text))\n",
    "print(\"First 1000 characters of decoded text:\\n\" + decoded_text[:1000])"
   ]
  },
  {
   "cell_type": "markdown",
   "metadata": {
    "collapsed": true
   },
   "source": [
    "When you are done, go to the terminal and type: \n",
    "\n",
    "`nbgrader submit Lab-03-29 --course dlsun`\n",
    "\n",
    "This will submit your code so that it can be graded."
   ]
  }
 ],
 "metadata": {
  "kernelspec": {
   "display_name": "Python 3",
   "language": "python",
   "name": "python3"
  },
  "language_info": {
   "codemirror_mode": {
    "name": "ipython",
    "version": 3
   },
   "file_extension": ".py",
   "mimetype": "text/x-python",
   "name": "python",
   "nbconvert_exporter": "python",
   "pygments_lexer": "ipython3",
   "version": "3.4.3"
  }
 },
 "nbformat": 4,
 "nbformat_minor": 0
}
