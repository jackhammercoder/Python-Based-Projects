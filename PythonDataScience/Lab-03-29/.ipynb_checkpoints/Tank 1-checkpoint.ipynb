{
 "cells": [
  {
   "cell_type": "markdown",
   "metadata": {},
   "source": [
    "#  Tank 1 Information:\n",
    "\n",
    "##  Outline:\n",
    "\n",
    "The equation for volume of tank one is dependent solely on the height given from a reading of the head room of this particular tank. The equation presented in to this document wont give volume readings for a head room beyond 95.5 inches. A head room reading of 95.5 inches or more is the last 78 Gallons of the tank that would need further analysis for a volume by height breakdown (Willing to do it if needed, didn't think realistically this type of reading would be done).\n"
   ]
  },
  {
   "cell_type": "markdown",
   "metadata": {},
   "source": [
    "## Equation Breakdown\n",
    "The Equation for volume in gallons is broken down into two different types of shapes, a cylinder and a Conical Frustum.(http://mathworld.wolfram.com/ConicalFrustum.html) <- if you're interested in what that is. There are some key values that you will see in the if conditionals in my code. Most of the you can see in the drawings, for exampe, you can clearly see that the height of the top cylinder in the tank is 12 inches. The most unintuitive one is the height of the conical frustrum, which I calculated as 6.6325 inches (someone else should verify this buy I'm like 95 % confident this is right)."
   ]
  },
  {
   "cell_type": "markdown",
   "metadata": {},
   "source": [
    "#### Equation for volume a cylinder:"
   ]
  },
  {
   "cell_type": "code",
   "execution_count": 1,
   "metadata": {
    "collapsed": false
   },
   "outputs": [],
   "source": [
    "import math"
   ]
  },
  {
   "cell_type": "code",
   "execution_count": 2,
   "metadata": {
    "collapsed": false
   },
   "outputs": [],
   "source": [
    "def cylinder_volume(height, radius):\n",
    "    \" return the volume of a cylinder\"\n",
    "    return height * (radius ** 2) * math.pi "
   ]
  },
  {
   "cell_type": "markdown",
   "metadata": {},
   "source": [
    "#### Equation for Conical Frustrum ( THIS IS UNIQUE TO THIS TANK)\n",
    "__NOTE__ : This equation depends only on height and was developed using solids of revolutionsso that it doesnt have to adjust for changing radius values at different heights. This makes it better than the equation in the wolphram alpha page"
   ]
  },
  {
   "cell_type": "code",
   "execution_count": 3,
   "metadata": {
    "collapsed": false
   },
   "outputs": [
    {
     "data": {
      "text/plain": [
       "18239.3"
      ]
     },
     "execution_count": 3,
     "metadata": {},
     "output_type": "execute_result"
    }
   ],
   "source": [
    "def frustum_volume(height):\n",
    "    r_height = 6.6325 - height ## r_height = reverse height\n",
    "    return 18239.3 - (r_height * ((9.51782 * r_height **2) - (369.44 * r_height) + 4779.25 ))\n",
    "frustum_volume(6.6325)"
   ]
  },
  {
   "cell_type": "markdown",
   "metadata": {},
   "source": [
    "#### Equation for calculating volume give headroom in inches\n"
   ]
  },
  {
   "cell_type": "code",
   "execution_count": 4,
   "metadata": {
    "collapsed": false
   },
   "outputs": [],
   "source": [
    "def tank1_volume(headroom):\n",
    "    bottom_volume = 10751.32 ## the piece beyond 95.5 inches deiscussed in the outline\n",
    "    big_cylinder = cylinder_volume(75.5, 39) ## volume of big cylinder piece when full\n",
    "    full_frust = frustum_volume(6.6325)\n",
    "    if headroom <= 12 :\n",
    "        volume = bottom_volume + big_cylinder + full_frust + cylinder_volume(12-headroom, 18)\n",
    "    elif headroom > 12 and headroom <= 18.6325:\n",
    "        volume = bottom_volume + big_cylinder + frustum_volume(18.6325 - headroom)\n",
    "    elif headroom > 18.6325 and headroom <= 95.5:\n",
    "        volume = bottom_volume + cylinder_volume(95.5 - headroom, 39)\n",
    "    else :\n",
    "        print(\"You entered an invalid headroom measurement, Try again!\")\n",
    "        return\n",
    "    return volume"
   ]
  },
  {
   "cell_type": "markdown",
   "metadata": {},
   "source": [
    "#### Code to convert from cubic inches to Gallons :"
   ]
  },
  {
   "cell_type": "code",
   "execution_count": 5,
   "metadata": {
    "collapsed": true
   },
   "outputs": [],
   "source": [
    "def cubin_to_gal(volume):\n",
    "    return volume * 0.004329"
   ]
  },
  {
   "cell_type": "markdown",
   "metadata": {},
   "source": [
    "## Testing the equation and some key values\n",
    "\n",
    "#### Total Volume of the tank:"
   ]
  },
  {
   "cell_type": "code",
   "execution_count": 6,
   "metadata": {
    "collapsed": false
   },
   "outputs": [
    {
     "name": "stdout",
     "output_type": "stream",
     "text": [
      "the total volume of tank 1 is: \n"
     ]
    },
    {
     "data": {
      "text/plain": [
       "1740.1346036232571"
      ]
     },
     "execution_count": 6,
     "metadata": {},
     "output_type": "execute_result"
    }
   ],
   "source": [
    "print(\"the total volume of tank 1 is: \")\n",
    "cubin_to_gal(tank1_volume(0))"
   ]
  },
  {
   "cell_type": "markdown",
   "metadata": {},
   "source": [
    "#### Test Values"
   ]
  },
  {
   "cell_type": "code",
   "execution_count": 7,
   "metadata": {
    "collapsed": true
   },
   "outputs": [],
   "source": [
    "headrooms = (1,35,42,56,73,94,13,18,34,3.333, 1.2, 87, 44.65, 15,)"
   ]
  },
  {
   "cell_type": "code",
   "execution_count": 8,
   "metadata": {
    "collapsed": false
   },
   "outputs": [
    {
     "name": "stdout",
     "output_type": "stream",
     "text": [
      "The Volume of tank 1 for a head room of 1.000000 inches is: \n",
      "1735.728218 Gallons \n",
      "\n",
      "The Volume of tank 1 for a head room of 35.000000 inches is: \n",
      "1298.017086 Gallons \n",
      "\n",
      "The Volume of tank 1 for a head room of 42.000000 inches is: \n",
      "1153.218370 Gallons \n",
      "\n",
      "The Volume of tank 1 for a head room of 56.000000 inches is: \n",
      "863.620937 Gallons \n",
      "\n",
      "The Volume of tank 1 for a head room of 73.000000 inches is: \n",
      "511.966910 Gallons \n",
      "\n",
      "The Volume of tank 1 for a head room of 94.000000 inches is: \n",
      "77.570761 Gallons \n",
      "\n",
      "The Volume of tank 1 for a head room of 13.000000 inches is: \n",
      "1668.126710 Gallons \n",
      "\n",
      "The Volume of tank 1 for a head room of 18.000000 inches is: \n",
      "1611.796977 Gallons \n",
      "\n",
      "The Volume of tank 1 for a head room of 34.000000 inches is: \n",
      "1318.702617 Gallons \n",
      "\n",
      "The Volume of tank 1 for a head room of 3.333000 inches is: \n",
      "1725.448121 Gallons \n",
      "\n",
      "The Volume of tank 1 for a head room of 1.200000 inches is: \n",
      "1734.846941 Gallons \n",
      "\n",
      "The Volume of tank 1 for a head room of 87.000000 inches is: \n",
      "222.369477 Gallons \n",
      "\n",
      "The Volume of tank 1 for a head room of 44.650000 inches is: \n",
      "1098.401713 Gallons \n",
      "\n",
      "The Volume of tank 1 for a head room of 15.000000 inches is: \n",
      "1638.471141 Gallons \n",
      "\n"
     ]
    }
   ],
   "source": [
    "for h in headrooms:\n",
    "    print(\"The Volume of tank 1 for a head room of %f inches is: \" % h)\n",
    "    volume = cubin_to_gal(tank1_volume(h))\n",
    "    print(\"%f Gallons \\n\" % volume)"
   ]
  }
 ],
 "metadata": {
  "kernelspec": {
   "display_name": "Python 3",
   "language": "python",
   "name": "python3"
  },
  "language_info": {
   "codemirror_mode": {
    "name": "ipython",
    "version": 3
   },
   "file_extension": ".py",
   "mimetype": "text/x-python",
   "name": "python",
   "nbconvert_exporter": "python",
   "pygments_lexer": "ipython3",
   "version": "3.4.3"
  }
 },
 "nbformat": 4,
 "nbformat_minor": 0
}
