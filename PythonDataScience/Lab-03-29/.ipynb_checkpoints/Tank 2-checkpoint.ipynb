{
 "cells": [
  {
   "cell_type": "markdown",
   "metadata": {},
   "source": [
    "#### Equation for volume a cylinder:"
   ]
  },
  {
   "cell_type": "markdown",
   "metadata": {},
   "source": [
    "__key findings__\n",
    "-I believe that cone part of this tank is off by almost 50 gallons!"
   ]
  },
  {
   "cell_type": "code",
   "execution_count": 1,
   "metadata": {
    "collapsed": false
   },
   "outputs": [],
   "source": [
    "import math"
   ]
  },
  {
   "cell_type": "code",
   "execution_count": 2,
   "metadata": {
    "collapsed": false
   },
   "outputs": [],
   "source": [
    "def cylinder_volume(height, radius):\n",
    "    \" return the volume of a cylinder\"\n",
    "    return height * (radius ** 2) * math.pi\n"
   ]
  },
  {
   "cell_type": "markdown",
   "metadata": {},
   "source": [
    "#### Equation for Conical Frustrum ( THIS IS UNIQUE TO THIS TANK)\n",
    "__NOTE__ : This equation depends only on height and was developed using solids of revolutionsso that it doesnt have to adjust for changing radius values at different heights. This makes it better than the equation in the wolphram alpha page"
   ]
  },
  {
   "cell_type": "code",
   "execution_count": 3,
   "metadata": {
    "collapsed": false
   },
   "outputs": [],
   "source": [
    "def frustum_volume(height):\n",
    "    r_height = 7.04 - height ## r_height = reverse height\n",
    "    return 27454.336311819155247015194357901131978293940752213724 - (2500 * r_height * (363 - 33 * r_height + r_height**2) * math.pi)/363"
   ]
  },
  {
   "cell_type": "markdown",
   "metadata": {},
   "source": [
    "#### Equation for calculating volume give headroom in inches\n"
   ]
  },
  {
   "cell_type": "code",
   "execution_count": 4,
   "metadata": {
    "collapsed": false
   },
   "outputs": [],
   "source": [
    "def tank1_volume(headroom):\n",
    "    bottom_volume = 23561.9449019 ## the piece beyond 95.5 inches discussed in the outline\n",
    "    big_cylinder = cylinder_volume(86, 50) ## volume of big cylinder piece when full\n",
    "    full_frust = frustum_volume(7.04)\n",
    "    if headroom <= 12 :\n",
    "        volume = bottom_volume + big_cylinder + full_frust + cylinder_volume(12-headroom, 18)\n",
    "    elif headroom > 12 and headroom <= 19.04:\n",
    "        volume = bottom_volume + big_cylinder + frustum_volume(19.04 - headroom)\n",
    "    elif headroom > 19.04 and headroom <= 106:\n",
    "        volume = bottom_volume + cylinder_volume(106 - headroom, 50)\n",
    "    else :\n",
    "        print(\"You entered an invalid headroom measurement, Try again!\")\n",
    "        return\n",
    "    return volume"
   ]
  },
  {
   "cell_type": "markdown",
   "metadata": {},
   "source": [
    "#### Code to convert from cubic inches to Gallons :"
   ]
  },
  {
   "cell_type": "code",
   "execution_count": 5,
   "metadata": {
    "collapsed": false
   },
   "outputs": [
    {
     "data": {
      "text/plain": [
       "2923.9902384388965"
      ]
     },
     "execution_count": 5,
     "metadata": {},
     "output_type": "execute_result"
    }
   ],
   "source": [
    "def cubin_to_gal(volume):\n",
    "    return volume * 0.004329\n",
    "cubin_to_gal(cylinder_volume(86,50)) ### a possible source of error on engineer's part"
   ]
  },
  {
   "cell_type": "markdown",
   "metadata": {},
   "source": [
    "## Testing the equation and some key values\n",
    "\n",
    "#### Total Volume of the tank:"
   ]
  },
  {
   "cell_type": "code",
   "execution_count": 6,
   "metadata": {
    "collapsed": false
   },
   "outputs": [
    {
     "name": "stdout",
     "output_type": "stream",
     "text": [
      "the total volume of tank 2 is: \n"
     ]
    },
    {
     "data": {
      "text/plain": [
       "3197.7163432877396"
      ]
     },
     "execution_count": 6,
     "metadata": {},
     "output_type": "execute_result"
    }
   ],
   "source": [
    "print(\"the total volume of tank 2 is: \")\n",
    "cubin_to_gal(tank1_volume(0))"
   ]
  },
  {
   "cell_type": "markdown",
   "metadata": {},
   "source": [
    "#### Test Values"
   ]
  },
  {
   "cell_type": "code",
   "execution_count": 7,
   "metadata": {
    "collapsed": true
   },
   "outputs": [],
   "source": [
    "headrooms = range(107)"
   ]
  },
  {
   "cell_type": "code",
   "execution_count": 8,
   "metadata": {
    "collapsed": false
   },
   "outputs": [
    {
     "name": "stdout",
     "output_type": "stream",
     "text": [
      "Tank 2 Volume Breakdown\n",
      "\n",
      " headroom(inches)       Volume(Gallons)\n",
      "\n",
      " 0                      3197.716343 \n",
      " 1                      3193.309958 \n",
      " 2                      3188.903573 \n",
      " 3                      3184.497187 \n",
      " 4                      3180.090802 \n",
      " 5                      3175.684417 \n",
      " 6                      3171.278032 \n",
      " 7                      3166.871646 \n",
      " 8                      3162.465261 \n",
      " 9                      3158.058876 \n",
      "10                      3153.652490 \n",
      "11                      3149.246105 \n",
      "12                      3144.839720 \n",
      "13                      3113.837068 \n",
      "14                      3088.454233 \n",
      "15                      3068.129232 \n",
      "16                      3052.300084 \n",
      "17                      3040.404807 \n",
      "18                      3031.881419 \n",
      "19                      3026.167940 \n",
      "20                      3025.989898 \n",
      "21                      2991.990011 \n",
      "22                      2957.990125 \n",
      "23                      2923.990238 \n",
      "24                      2889.990352 \n",
      "25                      2855.990465 \n",
      "26                      2821.990579 \n",
      "27                      2787.990692 \n",
      "28                      2753.990806 \n",
      "29                      2719.990919 \n",
      "30                      2685.991033 \n",
      "31                      2651.991146 \n",
      "32                      2617.991260 \n",
      "33                      2583.991374 \n",
      "34                      2549.991487 \n",
      "35                      2515.991601 \n",
      "36                      2481.991714 \n",
      "37                      2447.991828 \n",
      "38                      2413.991941 \n",
      "39                      2379.992055 \n",
      "40                      2345.992168 \n",
      "41                      2311.992282 \n",
      "42                      2277.992395 \n",
      "43                      2243.992509 \n",
      "44                      2209.992622 \n",
      "45                      2175.992736 \n",
      "46                      2141.992849 \n",
      "47                      2107.992963 \n",
      "48                      2073.993076 \n",
      "49                      2039.993190 \n",
      "50                      2005.993303 \n",
      "51                      1971.993417 \n",
      "52                      1937.993530 \n",
      "53                      1903.993644 \n",
      "54                      1869.993757 \n",
      "55                      1835.993871 \n",
      "56                      1801.993984 \n",
      "57                      1767.994098 \n",
      "58                      1733.994211 \n",
      "59                      1699.994325 \n",
      "60                      1665.994438 \n",
      "61                      1631.994552 \n",
      "62                      1597.994665 \n",
      "63                      1563.994779 \n",
      "64                      1529.994892 \n",
      "65                      1495.995006 \n",
      "66                      1461.995119 \n",
      "67                      1427.995233 \n",
      "68                      1393.995346 \n",
      "69                      1359.995460 \n",
      "70                      1325.995573 \n",
      "71                      1291.995687 \n",
      "72                      1257.995800 \n",
      "73                      1223.995914 \n",
      "74                      1189.996027 \n",
      "75                      1155.996141 \n",
      "76                      1121.996254 \n",
      "77                      1087.996368 \n",
      "78                      1053.996481 \n",
      "79                      1019.996595 \n",
      "80                      985.996708 \n",
      "81                      951.996822 \n",
      "82                      917.996935 \n",
      "83                      883.997049 \n",
      "84                      849.997162 \n",
      "85                      815.997276 \n",
      "86                      781.997389 \n",
      "87                      747.997503 \n",
      "88                      713.997616 \n",
      "89                      679.997730 \n",
      "90                      645.997843 \n",
      "91                      611.997957 \n",
      "92                      577.998070 \n",
      "93                      543.998184 \n",
      "94                      509.998297 \n",
      "95                      475.998411 \n",
      "96                      441.998524 \n",
      "97                      407.998638 \n",
      "98                      373.998751 \n",
      "99                      339.998865 \n",
      "100                      305.998978 \n",
      "101                      271.999092 \n",
      "102                      237.999205 \n",
      "103                      203.999319 \n",
      "104                      169.999432 \n",
      "105                      135.999546 \n",
      "106                      101.999659 \n"
     ]
    }
   ],
   "source": [
    "print(\"Tank 2 Volume Breakdown\\n\\n headroom(inches)       Volume(Gallons)\\n\")\n",
    "for h in headrooms:\n",
    "    volume = cubin_to_gal(tank1_volume(h))\n",
    "    print(\"%2.f                      %f \" % (h, volume))"
   ]
  },
  {
   "cell_type": "code",
   "execution_count": null,
   "metadata": {
    "collapsed": true
   },
   "outputs": [],
   "source": []
  }
 ],
 "metadata": {
  "kernelspec": {
   "display_name": "Python 3",
   "language": "python",
   "name": "python3"
  },
  "language_info": {
   "codemirror_mode": {
    "name": "ipython",
    "version": 3
   },
   "file_extension": ".py",
   "mimetype": "text/x-python",
   "name": "python",
   "nbconvert_exporter": "python",
   "pygments_lexer": "ipython3",
   "version": "3.4.3"
  }
 },
 "nbformat": 4,
 "nbformat_minor": 0
}
