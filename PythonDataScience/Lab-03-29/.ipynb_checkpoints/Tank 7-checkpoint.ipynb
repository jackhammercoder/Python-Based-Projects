{
 "cells": [
  {
   "cell_type": "markdown",
   "metadata": {},
   "source": [
    "#### Equation for volume a cylinder:"
   ]
  },
  {
   "cell_type": "markdown",
   "metadata": {},
   "source": []
  },
  {
   "cell_type": "code",
   "execution_count": 3,
   "metadata": {
    "collapsed": false
   },
   "outputs": [],
   "source": [
    "import math"
   ]
  },
  {
   "cell_type": "code",
   "execution_count": 4,
   "metadata": {
    "collapsed": false
   },
   "outputs": [],
   "source": [
    "def cylinder_volume(height, radius):\n",
    "    \" return the volume of a cylinder\"\n",
    "    return height * (radius ** 2) * math.pi\n"
   ]
  },
  {
   "cell_type": "markdown",
   "metadata": {},
   "source": [
    "#### Equation for Conical Frustrum ( THIS IS UNIQUE TO THIS TANK)\n",
    "__NOTE__ : This equation depends only on height and was developed using solids of revolutionsso that it doesnt have to adjust for changing radius values at different heights. This makes it better than the equation in the wolphram alpha page"
   ]
  },
  {
   "cell_type": "code",
   "execution_count": 5,
   "metadata": {
    "collapsed": false
   },
   "outputs": [
    {
     "data": {
      "text/plain": [
       "47.001443089419006"
      ]
     },
     "execution_count": 5,
     "metadata": {},
     "output_type": "execute_result"
    }
   ],
   "source": [
    "def frustum_volume(height):\n",
    "    r_height = 8.00 - height ## r_height = reverse height\n",
    "    return 10857.344211 - r_height * (4071.504079 - 508.9380099 *  r_height + 21.205750412 * r_height**2)\n",
    "cubin_to_gal(frustum_volume(8.00)) ## testing it is right value"
   ]
  },
  {
   "cell_type": "markdown",
   "metadata": {},
   "source": [
    "#### Equation for calculating volume give headroom in inches\n"
   ]
  },
  {
   "cell_type": "code",
   "execution_count": 6,
   "metadata": {
    "collapsed": false
   },
   "outputs": [],
   "source": [
    "def tank1_volume(headroom):\n",
    "    bottom_volume = 8424 \n",
    "    big_cylinder = cylinder_volume(50, 36) ## volume of big cylinder piece when full\n",
    "    full_frust = frustum_volume(8)\n",
    "    if headroom <= 4 :\n",
    "        volume = bottom_volume + big_cylinder + full_frust + cylinder_volume(4-headroom, 18)\n",
    "    elif headroom > 4 and headroom <= 12:\n",
    "        volume = bottom_volume + big_cylinder + frustum_volume(12 - headroom)\n",
    "    elif headroom > 12 and headroom <= 62:\n",
    "        volume = bottom_volume + cylinder_volume(62 - headroom, 36)\n",
    "    else :\n",
    "        print(\"You entered an invalid headroom measurement, Try again!\")\n",
    "        return\n",
    "    return volume"
   ]
  },
  {
   "cell_type": "markdown",
   "metadata": {},
   "source": [
    "#### Code to convert from cubic inches to Gallons :"
   ]
  },
  {
   "cell_type": "code",
   "execution_count": 7,
   "metadata": {
    "collapsed": false
   },
   "outputs": [
    {
     "data": {
      "text/plain": [
       "881.2770579108859"
      ]
     },
     "execution_count": 7,
     "metadata": {},
     "output_type": "execute_result"
    }
   ],
   "source": [
    "def cubin_to_gal(volume):\n",
    "    return volume * 0.004329\n",
    "cubin_to_gal(cylinder_volume(50,36)) ### a possible source of error on engineer's part"
   ]
  },
  {
   "cell_type": "markdown",
   "metadata": {},
   "source": [
    "## Testing the equation and some key values\n",
    "\n",
    "#### Total Volume of the tank:"
   ]
  },
  {
   "cell_type": "code",
   "execution_count": 8,
   "metadata": {
    "collapsed": false
   },
   "outputs": [
    {
     "name": "stdout",
     "output_type": "stream",
     "text": [
      "the total volume of tank 2 is: \n"
     ]
    },
    {
     "data": {
      "text/plain": [
       "982.3715381585225"
      ]
     },
     "execution_count": 8,
     "metadata": {},
     "output_type": "execute_result"
    }
   ],
   "source": [
    "print(\"the total volume of tank 2 is: \")\n",
    "cubin_to_gal(tank1_volume(0))"
   ]
  },
  {
   "cell_type": "markdown",
   "metadata": {},
   "source": [
    "#### Test Values"
   ]
  },
  {
   "cell_type": "code",
   "execution_count": 9,
   "metadata": {
    "collapsed": true
   },
   "outputs": [],
   "source": [
    "headrooms = range(63)"
   ]
  },
  {
   "cell_type": "code",
   "execution_count": 11,
   "metadata": {
    "collapsed": false
   },
   "outputs": [
    {
     "name": "stdout",
     "output_type": "stream",
     "text": [
      "Tank 7 Volume Breakdown\n",
      "\n",
      " headroom(inches)       Volume(Gallons)\n",
      "\n",
      " 0                      982.371538 \n",
      " 1                      977.965153 \n",
      " 2                      973.558768 \n",
      " 3                      969.152382 \n",
      " 4                      964.745997 \n",
      " 5                      949.231849 \n",
      " 6                      937.573288 \n",
      " 7                      929.219516 \n",
      " 8                      923.619734 \n",
      " 9                      920.223146 \n",
      "10                      918.478951 \n",
      "11                      917.836354 \n",
      "12                      917.744554 \n",
      "13                      900.119013 \n",
      "14                      882.493472 \n",
      "15                      864.867930 \n",
      "16                      847.242389 \n",
      "17                      829.616848 \n",
      "18                      811.991307 \n",
      "19                      794.365766 \n",
      "20                      776.740225 \n",
      "21                      759.114683 \n",
      "22                      741.489142 \n",
      "23                      723.863601 \n",
      "24                      706.238060 \n",
      "25                      688.612519 \n",
      "26                      670.986978 \n",
      "27                      653.361437 \n",
      "28                      635.735895 \n",
      "29                      618.110354 \n",
      "30                      600.484813 \n",
      "31                      582.859272 \n",
      "32                      565.233731 \n",
      "33                      547.608190 \n",
      "34                      529.982648 \n",
      "35                      512.357107 \n",
      "36                      494.731566 \n",
      "37                      477.106025 \n",
      "38                      459.480484 \n",
      "39                      441.854943 \n",
      "40                      424.229401 \n",
      "41                      406.603860 \n",
      "42                      388.978319 \n",
      "43                      371.352778 \n",
      "44                      353.727237 \n",
      "45                      336.101696 \n",
      "46                      318.476155 \n",
      "47                      300.850613 \n",
      "48                      283.225072 \n",
      "49                      265.599531 \n",
      "50                      247.973990 \n",
      "51                      230.348449 \n",
      "52                      212.722908 \n",
      "53                      195.097366 \n",
      "54                      177.471825 \n",
      "55                      159.846284 \n",
      "56                      142.220743 \n",
      "57                      124.595202 \n",
      "58                      106.969661 \n",
      "59                      89.344119 \n",
      "60                      71.718578 \n",
      "61                      54.093037 \n",
      "62                      36.467496 \n"
     ]
    }
   ],
   "source": [
    "print(\"Tank 7 Volume Breakdown\\n\\n headroom(inches)       Volume(Gallons)\\n\")\n",
    "for h in headrooms:\n",
    "    volume = cubin_to_gal(tank1_volume(h))\n",
    "    print(\"%2.f                      %f \" % (h, volume))"
   ]
  },
  {
   "cell_type": "code",
   "execution_count": null,
   "metadata": {
    "collapsed": true
   },
   "outputs": [],
   "source": []
  }
 ],
 "metadata": {
  "kernelspec": {
   "display_name": "Python 3",
   "language": "python",
   "name": "python3"
  },
  "language_info": {
   "codemirror_mode": {
    "name": "ipython",
    "version": 3
   },
   "file_extension": ".py",
   "mimetype": "text/x-python",
   "name": "python",
   "nbconvert_exporter": "python",
   "pygments_lexer": "ipython3",
   "version": "3.4.3"
  }
 },
 "nbformat": 4,
 "nbformat_minor": 0
}
