{
 "cells": [
  {
   "cell_type": "markdown",
   "metadata": {},
   "source": [
    "#  Tank 1 Information:\n",
    "\n",
    "##  Outline:\n",
    "\n",
    "The equation for volume of tank one is dependent solely on the height given from a reading of the head room of this particular tank. The equation presented in to this document wont give volume readings for a head room beyond 95.5 inches. A head room reading of 95.5 inches or more is the last 78 Gallons of the tank that would need further analysis for a volume by height breakdown (Willing to do it if needed, didn't think realistically this type of reading would be done).\n"
   ]
  },
  {
   "cell_type": "markdown",
   "metadata": {},
   "source": [
    "## Equation Breakdown\n",
    "The Equation for volume in gallons is broken down into two different types of shapes, a cylinder and a Conical Frustum.(http://mathworld.wolfram.com/ConicalFrustum.html) <- if you're interested in what that is. There are some key values that you will see in the if conditionals in my code. Most of the you can see in the drawings, for exampe, you can clearly see that the height of the top cylinder in the tank is 12 inches. The most unintuitive one is the height of the conical frustrum, which I calculated as 6.6325 inches (someone else should verify this buy I'm like 95 % confident this is right)."
   ]
  },
  {
   "cell_type": "markdown",
   "metadata": {},
   "source": [
    "#### Equation for volume a cylinder:"
   ]
  },
  {
   "cell_type": "code",
   "execution_count": 1,
   "metadata": {
    "collapsed": false
   },
   "outputs": [],
   "source": [
    "import math"
   ]
  },
  {
   "cell_type": "code",
   "execution_count": 2,
   "metadata": {
    "collapsed": false
   },
   "outputs": [],
   "source": [
    "def cylinder_volume(height, radius):\n",
    "    \" return the volume of a cylinder\"\n",
    "    return height * (radius ** 2) * math.pi "
   ]
  },
  {
   "cell_type": "markdown",
   "metadata": {},
   "source": [
    "#### Equation for Conical Frustrum ( THIS IS UNIQUE TO THIS TANK)\n",
    "__NOTE__ : This equation depends only on height and was developed using solids of revolutionsso that it doesnt have to adjust for changing radius values at different heights. This makes it better than the equation in the wolphram alpha page"
   ]
  },
  {
   "cell_type": "code",
   "execution_count": 3,
   "metadata": {
    "collapsed": false
   },
   "outputs": [
    {
     "data": {
      "text/plain": [
       "18584.7"
      ]
     },
     "execution_count": 3,
     "metadata": {},
     "output_type": "execute_result"
    }
   ],
   "source": [
    "def frustum_volume(height):\n",
    "    r_height = 6.9669 - height ## r_height = reverse height\n",
    "    return 18584.7 - r_height *(4779.25 - 369.411* r_height + 9.51782 * r_height**2)\n",
    "frustum_volume(6.9669)"
   ]
  },
  {
   "cell_type": "markdown",
   "metadata": {},
   "source": [
    "#### Equation for calculating volume give headroom in inches\n"
   ]
  },
  {
   "cell_type": "code",
   "execution_count": 4,
   "metadata": {
    "collapsed": false
   },
   "outputs": [],
   "source": [
    "def tank1_volume(headroom):\n",
    "    bottom_volume = 10751.32 ## the piece beyond 95.5 inches deiscussed in the outline\n",
    "    big_cylinder = cylinder_volume(75.5, 39) ## volume of big cylinder piece when full\n",
    "    full_frust = frustum_volume(6.9669)\n",
    "    if headroom <= 12 :\n",
    "        volume = bottom_volume + big_cylinder + full_frust + cylinder_volume(12-headroom, 18)\n",
    "    elif headroom > 12 and headroom <= 18.9669:\n",
    "        volume = bottom_volume + big_cylinder + frustum_volume(18.9669 - headroom)\n",
    "    elif headroom > 18.9669 and headroom <= 95.5:\n",
    "        volume = bottom_volume + cylinder_volume(95.5 - headroom, 39)\n",
    "    else :\n",
    "        print(\"You entered an invalid headroom measurement, Try again!\")\n",
    "        return\n",
    "    return volume"
   ]
  },
  {
   "cell_type": "markdown",
   "metadata": {},
   "source": [
    "#### Code to convert from cubic inches to Gallons :"
   ]
  },
  {
   "cell_type": "code",
   "execution_count": 5,
   "metadata": {
    "collapsed": true
   },
   "outputs": [],
   "source": [
    "def cubin_to_gal(volume):\n",
    "    return volume * 0.004329"
   ]
  },
  {
   "cell_type": "markdown",
   "metadata": {},
   "source": [
    "## Testing the equation and some key values\n",
    "\n",
    "#### Total Volume of the tank:"
   ]
  },
  {
   "cell_type": "code",
   "execution_count": 6,
   "metadata": {
    "collapsed": false
   },
   "outputs": [
    {
     "name": "stdout",
     "output_type": "stream",
     "text": [
      "the total volume of tank 1 is: \n"
     ]
    },
    {
     "data": {
      "text/plain": [
       "1741.6298402232574"
      ]
     },
     "execution_count": 6,
     "metadata": {},
     "output_type": "execute_result"
    }
   ],
   "source": [
    "print(\"the total volume of tank 1 is: \")\n",
    "cubin_to_gal(tank1_volume(0))"
   ]
  },
  {
   "cell_type": "markdown",
   "metadata": {},
   "source": [
    "#### Test Values"
   ]
  },
  {
   "cell_type": "code",
   "execution_count": 7,
   "metadata": {
    "collapsed": false
   },
   "outputs": [],
   "source": [
    "headrooms = range(96)"
   ]
  },
  {
   "cell_type": "code",
   "execution_count": 8,
   "metadata": {
    "collapsed": false
   },
   "outputs": [
    {
     "name": "stdout",
     "output_type": "stream",
     "text": [
      "Tank 1 Volume Breakdown\n",
      "\n",
      " headroom(inches)       Volume(Gallons)\n",
      "\n",
      " 0                      1741.629840 \n",
      " 1                      1737.223455 \n",
      " 2                      1732.817070 \n",
      " 3                      1728.410684 \n",
      " 4                      1724.004299 \n",
      " 5                      1719.597914 \n",
      " 6                      1715.191528 \n",
      " 7                      1710.785143 \n",
      " 8                      1706.378758 \n",
      " 9                      1701.972373 \n",
      "10                      1697.565987 \n",
      "11                      1693.159602 \n",
      "12                      1688.753217 \n",
      "13                      1669.621821 \n",
      "14                      1653.441570 \n",
      "15                      1639.965248 \n",
      "16                      1628.945638 \n",
      "17                      1620.135526 \n",
      "18                      1613.287694 \n",
      "19                      1628.985581 \n",
      "20                      1608.300050 \n",
      "21                      1587.614520 \n",
      "22                      1566.928989 \n",
      "23                      1546.243458 \n",
      "24                      1525.557927 \n",
      "25                      1504.872396 \n",
      "26                      1484.186865 \n",
      "27                      1463.501334 \n",
      "28                      1442.815803 \n",
      "29                      1422.130272 \n",
      "30                      1401.444741 \n",
      "31                      1380.759210 \n",
      "32                      1360.073679 \n",
      "33                      1339.388148 \n",
      "34                      1318.702617 \n",
      "35                      1298.017086 \n",
      "36                      1277.331555 \n",
      "37                      1256.646024 \n",
      "38                      1235.960493 \n",
      "39                      1215.274963 \n",
      "40                      1194.589432 \n",
      "41                      1173.903901 \n",
      "42                      1153.218370 \n",
      "43                      1132.532839 \n",
      "44                      1111.847308 \n",
      "45                      1091.161777 \n",
      "46                      1070.476246 \n",
      "47                      1049.790715 \n",
      "48                      1029.105184 \n",
      "49                      1008.419653 \n",
      "50                      987.734122 \n",
      "51                      967.048591 \n",
      "52                      946.363060 \n",
      "53                      925.677529 \n",
      "54                      904.991998 \n",
      "55                      884.306467 \n",
      "56                      863.620937 \n",
      "57                      842.935406 \n",
      "58                      822.249875 \n",
      "59                      801.564344 \n",
      "60                      780.878813 \n",
      "61                      760.193282 \n",
      "62                      739.507751 \n",
      "63                      718.822220 \n",
      "64                      698.136689 \n",
      "65                      677.451158 \n",
      "66                      656.765627 \n",
      "67                      636.080096 \n",
      "68                      615.394565 \n",
      "69                      594.709034 \n",
      "70                      574.023503 \n",
      "71                      553.337972 \n",
      "72                      532.652441 \n",
      "73                      511.966910 \n",
      "74                      491.281380 \n",
      "75                      470.595849 \n",
      "76                      449.910318 \n",
      "77                      429.224787 \n",
      "78                      408.539256 \n",
      "79                      387.853725 \n",
      "80                      367.168194 \n",
      "81                      346.482663 \n",
      "82                      325.797132 \n",
      "83                      305.111601 \n",
      "84                      284.426070 \n",
      "85                      263.740539 \n",
      "86                      243.055008 \n",
      "87                      222.369477 \n",
      "88                      201.683946 \n",
      "89                      180.998415 \n",
      "90                      160.312884 \n",
      "91                      139.627354 \n",
      "92                      118.941823 \n",
      "93                      98.256292 \n",
      "94                      77.570761 \n",
      "95                      56.885230 \n"
     ]
    }
   ],
   "source": [
    "print(\"Tank 1 Volume Breakdown\\n\\n headroom(inches)       Volume(Gallons)\\n\")\n",
    "for h in headrooms:\n",
    "    volume = cubin_to_gal(tank1_volume(h))\n",
    "    print(\"%2.f                      %f \" % (h, volume))"
   ]
  },
  {
   "cell_type": "code",
   "execution_count": null,
   "metadata": {
    "collapsed": true
   },
   "outputs": [],
   "source": []
  },
  {
   "cell_type": "code",
   "execution_count": null,
   "metadata": {
    "collapsed": true
   },
   "outputs": [],
   "source": []
  }
 ],
 "metadata": {
  "kernelspec": {
   "display_name": "Python 3",
   "language": "python",
   "name": "python3"
  },
  "language_info": {
   "codemirror_mode": {
    "name": "ipython",
    "version": 3
   },
   "file_extension": ".py",
   "mimetype": "text/x-python",
   "name": "python",
   "nbconvert_exporter": "python",
   "pygments_lexer": "ipython3",
   "version": "3.4.3"
  }
 },
 "nbformat": 4,
 "nbformat_minor": 0
}
