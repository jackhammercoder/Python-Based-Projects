{
 "cells": [
  {
   "cell_type": "markdown",
   "metadata": {},
   "source": [
    "# New York Philharmonic\n",
    "\n",
    "## Due Thursday, May 12 at 8 AM\n",
    "\n",
    "In this lab, you will analyze XML data of every one of the [New York Philharmonic](http://www.nyphil.org)'s concerts between 1963 and 1973. The data resides in the file `/data/nyphil.xml`.\n",
    "\n",
    "Note that the same program may have been used for several concerts. So the number of times a work was _programmed_ might be different from the number of times it was _performed_.\n",
    "\n",
    "You are highly encouraged to skim the [Beautiful Soup documentation](https://www.crummy.com/software/BeautifulSoup/bs4/doc/). Unlike most documentation, it's concise and organized!"
   ]
  },
  {
   "cell_type": "markdown",
   "metadata": {
    "deletable": false,
    "nbgrader": {
     "checksum": "3b8a3fd9858ef317e380630c9ebfa592",
     "grade": false,
     "grade_id": "read_data_question",
     "locked": true,
     "solution": false
    }
   },
   "source": [
    "## Question 0 (5 points)\n",
    "\n",
    "Use [Beautiful Soup](https://www.crummy.com/software/BeautifulSoup/bs4/doc/) to read the XML data into a Python object. Store the Python object called `data`. Make sure the tests below run without any errors, as this question is autograded."
   ]
  },
  {
   "cell_type": "code",
   "execution_count": 1,
   "metadata": {
    "collapsed": false,
    "deletable": false,
    "nbgrader": {
     "checksum": "05fd755bdc37ec59b9945771a86acae3",
     "grade": false,
     "grade_id": "read_data_answer",
     "locked": false,
     "solution": true
    }
   },
   "outputs": [],
   "source": [
    "from bs4 import BeautifulSoup\n",
    "fp = open('/data/nyphil.xml')\n",
    "data = BeautifulSoup(fp, 'xml')\n"
   ]
  },
  {
   "cell_type": "code",
   "execution_count": 2,
   "metadata": {
    "collapsed": true,
    "deletable": false,
    "nbgrader": {
     "checksum": "63b28d2a0aaf771eaab9f832c1ac0bba",
     "grade": true,
     "grade_id": "read_data_tests",
     "locked": true,
     "points": 5,
     "solution": false
    }
   },
   "outputs": [],
   "source": [
    "root = list(data.children)[0]\n",
    "assert(root.name == \"programs\")\n",
    "assert(sum(1 for _ in root.children) == 1931)"
   ]
  },
  {
   "cell_type": "markdown",
   "metadata": {
    "deletable": false,
    "nbgrader": {
     "checksum": "6e70e429ff703aab29b8ee193cb803f5",
     "grade": false,
     "grade_id": "programmed_question",
     "locked": true,
     "solution": false
    }
   },
   "source": [
    "## Question 1 (15 points)\n",
    "\n",
    "Which works (please give composer and title) were programmed the most times over this time period? (No explanation necessary; just print out the top works, alongside the counts of how many programs they appeared on.)"
   ]
  },
  {
   "cell_type": "code",
   "execution_count": 3,
   "metadata": {
    "collapsed": false,
    "deletable": false,
    "nbgrader": {
     "checksum": "f05228fdc0467705595eb127e5d30d54",
     "grade": true,
     "grade_id": "programmed_answer",
     "locked": false,
     "points": 15,
     "solution": true
    }
   },
   "outputs": [
    {
     "ename": "NameError",
     "evalue": "name 'workinfo' is not defined",
     "output_type": "error",
     "traceback": [
      "\u001b[1;31m\u001b[0m",
      "\u001b[1;31mNameError\u001b[0mTraceback (most recent call last)",
      "\u001b[1;32m<ipython-input-3-6a44095aba77>\u001b[0m in \u001b[0;36m<module>\u001b[1;34m()\u001b[0m\n\u001b[0;32m     12\u001b[0m \u001b[0mdfwork\u001b[0m\u001b[1;33m[\u001b[0m\u001b[1;34m'Title'\u001b[0m\u001b[1;33m]\u001b[0m \u001b[1;33m=\u001b[0m \u001b[0mnewtitle\u001b[0m\u001b[1;33m\u001b[0m\u001b[0m\n\u001b[0;32m     13\u001b[0m \u001b[0mdfwork\u001b[0m\u001b[1;33m[\u001b[0m\u001b[1;34m'Composer'\u001b[0m\u001b[1;33m]\u001b[0m \u001b[1;33m=\u001b[0m \u001b[0mnewcomposers\u001b[0m\u001b[1;33m\u001b[0m\u001b[0m\n\u001b[1;32m---> 14\u001b[1;33m \u001b[0mcopyworks\u001b[0m \u001b[1;33m=\u001b[0m \u001b[0mworkinfo\u001b[0m\u001b[1;33m.\u001b[0m\u001b[0mgroupby\u001b[0m\u001b[1;33m(\u001b[0m\u001b[1;33m[\u001b[0m\u001b[1;34m'Composer'\u001b[0m\u001b[1;33m,\u001b[0m \u001b[1;34m'Title'\u001b[0m\u001b[1;33m]\u001b[0m\u001b[1;33m)\u001b[0m\u001b[1;33m.\u001b[0m\u001b[0msize\u001b[0m\u001b[1;33m(\u001b[0m\u001b[1;33m)\u001b[0m\u001b[1;33m.\u001b[0m\u001b[0mreset_index\u001b[0m\u001b[1;33m(\u001b[0m\u001b[1;33m)\u001b[0m\u001b[1;33m\u001b[0m\u001b[0m\n\u001b[0m\u001b[0;32m     15\u001b[0m \u001b[0mcopyworks\u001b[0m\u001b[1;33m.\u001b[0m\u001b[0mcolumns\u001b[0m \u001b[1;33m=\u001b[0m \u001b[1;33m[\u001b[0m\u001b[1;34m'Composer'\u001b[0m\u001b[1;33m,\u001b[0m\u001b[1;34m'Title'\u001b[0m\u001b[1;33m,\u001b[0m \u001b[1;34m'Count'\u001b[0m\u001b[1;33m]\u001b[0m\u001b[1;33m\u001b[0m\u001b[0m\n\u001b[0;32m     16\u001b[0m \u001b[0mcopyworks\u001b[0m \u001b[1;33m=\u001b[0m \u001b[0mcopyworks\u001b[0m\u001b[1;33m.\u001b[0m\u001b[0msort_values\u001b[0m\u001b[1;33m(\u001b[0m\u001b[1;34m'Count'\u001b[0m\u001b[1;33m,\u001b[0m \u001b[0mascending\u001b[0m\u001b[1;33m=\u001b[0m \u001b[1;32mFalse\u001b[0m\u001b[1;33m)\u001b[0m\u001b[1;33m\u001b[0m\u001b[0m\n",
      "\u001b[1;31mNameError\u001b[0m: name 'workinfo' is not defined"
     ]
    }
   ],
   "source": [
    "import pandas as pd\n",
    "work = data.findAll('work')\n",
    "newworks = []\n",
    "newcomposers = []\n",
    "newtitle = []\n",
    "for i in range(0,len(work)):\n",
    "    ID = work[i][\"ID\"]\n",
    "    if ID != \"0*\":\n",
    "        newcomposers.append(work[i].findAll(\"composerName\")[0].string)\n",
    "        newtitle.append(work[i].findAll(\"workTitle\")[0].string)\n",
    "dfwork = pd.DataFrame()\n",
    "dfwork['Title'] = newtitle\n",
    "dfwork['Composer'] = newcomposers\n",
    "copyworks = workinfo.groupby(['Composer', 'Title']).size().reset_index()\n",
    "copyworks.columns = ['Composer','Title', 'Count']\n",
    "copyworks = copyworks.sort_values('Count', ascending= False)\n",
    "copyworks.head(10)"
   ]
  },
  {
   "cell_type": "markdown",
   "metadata": {
    "deletable": false,
    "nbgrader": {
     "checksum": "c95b22fffe487eb836e49949e29bdac7",
     "grade": false,
     "grade_id": "performed_question",
     "locked": true,
     "solution": false
    }
   },
   "source": [
    "## Question 2 (20 points)\n",
    "\n",
    "Which works (please give composer and title) were performed the most times over this time period? (No explanation necessary; just print out the top works, alongside the counts of how many times they were performed.)"
   ]
  },
  {
   "cell_type": "code",
   "execution_count": null,
   "metadata": {
    "collapsed": false,
    "deletable": false,
    "nbgrader": {
     "checksum": "4d276fdf1bf7e4e5c232ac83600bec4b",
     "grade": true,
     "grade_id": "performed_answer",
     "locked": false,
     "points": 20,
     "solution": true
    }
   },
   "outputs": [],
   "source": [
    "programs = data.findAll('program')\n",
    "newworks = []\n",
    "newcomposers = []\n",
    "newtitle = []\n",
    "for i in range(0,len(programs)):\n",
    "    times_performed = len(programs[i].find_all(\"concertInfo\"))\n",
    "    works = programs[i].find_all('work')\n",
    "    for j in range(0, len(works)):\n",
    "        ID = works[j][\"ID\"]\n",
    "        if ID != \"0*\":\n",
    "            for l in range(0,times_performed): \n",
    "                newcomposers.append(works[j].findAll(\"composerName\")[0].string)\n",
    "                newtitle.append(works[j].findAll(\"workTitle\")[0].string)"
   ]
  },
  {
   "cell_type": "code",
   "execution_count": null,
   "metadata": {
    "collapsed": false
   },
   "outputs": [],
   "source": [
    "dfwork = pd.DataFrame()\n",
    "dfwork['Title'] = newtitle\n",
    "dfwork['Composer'] = newcomposers\n",
    "copyworks = dfwork.groupby(['Composer', 'Title']).size().reset_index()\n",
    "copyworks.columns = ['Composer','Title', 'Count']\n",
    "copyworks = copyworks.sort_values('Count', ascending= False)\n",
    "copyworks.head(10)"
   ]
  },
  {
   "cell_type": "markdown",
   "metadata": {
    "deletable": false,
    "nbgrader": {
     "checksum": "f189a5a4a5e91ba0d5734b30839b908a",
     "grade": false,
     "grade_id": "to_pandas_question",
     "locked": true,
     "solution": false
    }
   },
   "source": [
    "## Question 3a (20 points)\n",
    "\n",
    "Make a Pandas DataFrame, where each row is a work that was programmed by the New York Philharmonic. The columns should include the composer, work title, conductor, and the date of the performance. (Hint: You may want to look at the Pandas DataFrame to remind yourself about how to use `pd.DataFrame` to create a DataFrame from a dict.)\n",
    "\n",
    "Please print out the first few rows of your DataFrame.\n",
    "\n",
    "still want each row to be the time it was performed just want the first date it was performed"
   ]
  },
  {
   "cell_type": "code",
   "execution_count": null,
   "metadata": {
    "collapsed": false,
    "deletable": false,
    "nbgrader": {
     "checksum": "978fd269e549927e2a881de313a6e9bf",
     "grade": true,
     "grade_id": "to_pandas_answer",
     "locked": false,
     "points": 20,
     "solution": true
    }
   },
   "outputs": [],
   "source": [
    "programs = data.findAll('program')\n",
    "newworks = []\n",
    "date = []\n",
    "conductor = []\n",
    "newcomposers = []\n",
    "newtitle = []\n",
    "for i in range(0,len(programs)):\n",
    "    dateperformed= programs[i].find_all('concertInfo')[0].find_all('Date')[0].string\n",
    "    works = programs[i].find_all('work')\n",
    "    for j in range(0, len(works)):\n",
    "        ID = works[j][\"ID\"]\n",
    "        if ID != \"0*\":\n",
    "            newcomposers.append(works[j].findAll(\"composerName\")[0].string)\n",
    "            newtitle.append(works[j].findAll(\"workTitle\")[0].string)\n",
    "            date.append(dateperformed)\n",
    "            try:\n",
    "                conductor.append(works[j].findAll(\"conductorName\")[0].string)\n",
    "            except:\n",
    "                conductor.append(\"NO CONDUCTOR\")\n",
    "dfwork = pd.DataFrame()\n",
    "dfwork['Title'] = newtitle\n",
    "dfwork['Composer'] = newcomposers\n",
    "dfwork['Date'] = date\n",
    "dfwork['Conductor'] = conductor\n",
    "dfwork.head(10)"
   ]
  },
  {
   "cell_type": "markdown",
   "metadata": {
    "deletable": false,
    "nbgrader": {
     "checksum": "b5da3d84378f2d631d79427090f1afcd",
     "grade": false,
     "grade_id": "bernstein_question",
     "locked": true,
     "solution": false
    }
   },
   "source": [
    "## Question 3b (10 points)\n",
    "\n",
    "Use the DataFrame you created above to determine Leonard Bernstein's favorite composers. That is, which composers appeared on the most programs where Bernstein was conducting?"
   ]
  },
  {
   "cell_type": "code",
   "execution_count": null,
   "metadata": {
    "collapsed": false
   },
   "outputs": [],
   "source": [
    "bernard = dfwork[dfwork['Conductor'] == \"Bernstein, Leonard\"]\n",
    "favcomp = bernard.groupby('Composer').size().reset_index()\n",
    "favcomp.columns = ['Composer', 'Count']\n",
    "favcomp.sort_values('Count', ascending=False)"
   ]
  },
  {
   "cell_type": "markdown",
   "metadata": {
    "deletable": false,
    "nbgrader": {
     "checksum": "b30173f2a1b5b281f001a6b2250b0600",
     "grade": true,
     "grade_id": "bernstein_response",
     "locked": false,
     "points": 10,
     "solution": true
    }
   },
   "source": [
    "His top 3 favorite composers (in order) are Mahler, Beethoven, and Tchaikovsky"
   ]
  },
  {
   "cell_type": "markdown",
   "metadata": {
    "deletable": false,
    "nbgrader": {
     "checksum": "62ae37be467a8389c47c76d3a3cd197c",
     "grade": false,
     "grade_id": "composers_question",
     "locked": true,
     "solution": false
    }
   },
   "source": [
    "## Question 4 (20 points)\n",
    "\n",
    "For each composer, calculate the number of programs that featured one (or more) of his works.  Sort the composers in descending order of the number of programs in which they appeared.\n",
    "\n",
    "**Think:** Why can't you just call `.groupby(\"composer\").count()` on your Pandas DataFrame from the previous question?"
   ]
  },
  {
   "cell_type": "code",
   "execution_count": null,
   "metadata": {
    "collapsed": false,
    "deletable": false,
    "nbgrader": {
     "checksum": "9466c9176e54ef82882dd450e4acf754",
     "grade": true,
     "grade_id": "composers_response",
     "locked": false,
     "points": 20,
     "solution": true
    }
   },
   "outputs": [],
   "source": [
    "test = dfwork.groupby(['Composer', 'Date']).count().reset_index()\n",
    "test2  = test.groupby(['Composer']).size().reset_index()\n",
    "test2.sort_values(0, ascending=False)"
   ]
  }
 ],
 "metadata": {
  "kernelspec": {
   "display_name": "Python 3",
   "language": "python",
   "name": "python3"
  },
  "language_info": {
   "codemirror_mode": {
    "name": "ipython",
    "version": 3
   },
   "file_extension": ".py",
   "mimetype": "text/x-python",
   "name": "python",
   "nbconvert_exporter": "python",
   "pygments_lexer": "ipython3",
   "version": "3.4.3"
  }
 },
 "nbformat": 4,
 "nbformat_minor": 0
}
