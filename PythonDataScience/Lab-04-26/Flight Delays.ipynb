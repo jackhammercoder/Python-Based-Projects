{
 "cells": [
  {
   "cell_type": "markdown",
   "metadata": {},
   "source": [
    "# Flight Delays\n",
    "## Due Tuesday, May 2"
   ]
  },
  {
   "cell_type": "markdown",
   "metadata": {},
   "source": [
    "In this lab, we will explore a big data set (2.2 GB) consisting of all flights in the United States between 2004-8. This data is stored in a SQLite database on the server. The path to the file is `/data/flights.db`. The data about the flights is contained in a table called `ontime`. A description of the columns in the data set can be found in `/data/flights.README`.\n",
    "\n",
    "Furthermore, there is a table called `planes` in the same database containing information about the planes, such as their age. Description of the columns in these two tables can be found [here](http://www.faa.gov/licenses_certificates/aircraft_certification/aircraft_registry/media/ardata.pdf).\n",
    "\n",
    "Start this assignment early, as each SQL query can take a few minutes to run (and you may need to try a question several times to get the right answer)."
   ]
  },
  {
   "cell_type": "code",
   "execution_count": 1,
   "metadata": {
    "collapsed": false
   },
   "outputs": [
    {
     "data": {
      "text/plain": [
       "'Name\\tDescription\\n1\\tYear\\t\\t\\t2004-2008\\n2\\tMonth\\t\\t\\t1-12\\n3\\tDayofMonth\\t\\t1-31\\n4\\tDayOfWeek\\t\\t1 (Monday) - 7 (Sunday)\\n5\\tDepTime\\t\\t\\tactual departure time (local, hhmm)\\n6\\tCRSDepTime\\t\\tscheduled departure time (local, hhmm)\\n7\\tArrTime\\t\\t\\tactual arrival time (local, hhmm)\\n8\\tCRSArrTime\\t\\tscheduled arrival time (local, hhmm)\\n9\\tUniqueCarrier\\t\\tunique carrier code\\n10\\tFlightNum\\t\\tflight number\\n11\\tTailNum\\t\\t\\tplane tail number\\n12\\tActualElapsedTime     \\tin minutes\\n13\\tCRSElapsedTime\\t      \\tin minutes\\n14\\tAirTime\\t\\t      \\tin minutes\\n15\\tArrDelay\\t      \\tarrival delay, in minutes\\n16\\tDepDelay\\t      \\tdeparture delay, in minutes\\n17\\tOrigin\\t\\t      \\torigin IATA airport code\\n18\\tDest\\t\\t      \\tdestination IATA airport code\\n19\\tDistance\\t      \\tin miles\\n20\\tTaxiIn\\t\\t      \\ttaxi in time, in minutes\\n21\\tTaxiOut\\t\\t      \\ttaxi out time in minutes\\n22\\tCancelled\\t      \\twas the flight cancelled?\\n23\\tCancellationCode      \\treason for cancellation (A = carrier, B = weather, C = NAS, D = security)\\n24\\tDiverted\\t      \\t1 = yes, 0 = no\\n25\\tCarrierDelay\\t      \\tin minutes\\n26\\tWeatherDelay\\t      \\tin minutes\\n27\\tNASDelay\\t      \\tin minutes\\n28\\tSecurityDelay\\t      \\tin minutes\\n29\\tLateAircraftDelay     \\tin minutes'"
      ]
     },
     "execution_count": 1,
     "metadata": {},
     "output_type": "execute_result"
    }
   ],
   "source": [
    "import pandas as pd\n",
    "import matplotlib.pyplot as plt\n",
    "import numpy as np\n",
    "\n",
    "%matplotlib inline\n",
    "f = open(\"/data/flights.README\", \"rt\")\n",
    "f.read()"
   ]
  },
  {
   "cell_type": "markdown",
   "metadata": {
    "deletable": false,
    "nbgrader": {
     "checksum": "ee89a8ae5453c03ba1187681ce2d88a8",
     "grade": false,
     "grade_id": "sqlalchemy_question",
     "locked": true,
     "solution": false
    }
   },
   "source": [
    "## Question 0 (5 points)\n",
    "\n",
    "In the cell below, use SQLAlchemy to create a connection to the database. Store the connection in a variable `conn`."
   ]
  },
  {
   "cell_type": "code",
   "execution_count": 2,
   "metadata": {
    "collapsed": false,
    "deletable": false,
    "nbgrader": {
     "checksum": "96764f0eabc240edb27c2ccc5be3ba02",
     "grade": false,
     "grade_id": "sqlalchemy_code",
     "locked": false,
     "solution": true
    }
   },
   "outputs": [],
   "source": [
    "from sqlalchemy import create_engine\n",
    "conn = create_engine(\"sqlite:////data/flights.db\")"
   ]
  },
  {
   "cell_type": "code",
   "execution_count": 3,
   "metadata": {
    "collapsed": false,
    "deletable": false,
    "nbgrader": {
     "checksum": "bebafae9db53071be5967a709d721442",
     "grade": true,
     "grade_id": "sqlalchemy_tests",
     "locked": true,
     "points": 5,
     "solution": false
    }
   },
   "outputs": [],
   "source": [
    "# If your code above was correct, the tests below should pass.\n",
    "\n",
    "num_flights = pd.read_sql(\"SELECT COUNT(*) FROM ontime\", conn)\n",
    "assert(num_flights.ix[0, 0] == 28745461)\n",
    "\n",
    "num_planes = pd.read_sql(\"SELECT COUNT(*) FROM planes\", conn)\n",
    "assert(num_planes.ix[0, 0] == 317017)"
   ]
  },
  {
   "cell_type": "markdown",
   "metadata": {
    "deletable": false,
    "nbgrader": {
     "checksum": "42c011944aba1d5af0cf4ae1b17710ad",
     "grade": false,
     "grade_id": "year_question",
     "locked": true,
     "solution": false
    }
   },
   "source": [
    "## Question 1 (10 points)\n",
    "\n",
    "Calculate the total number of flights in each year (2004-2008), and make a line plot showing this data. Do you notice any trends?"
   ]
  },
  {
   "cell_type": "code",
   "execution_count": 4,
   "metadata": {
    "collapsed": false
   },
   "outputs": [],
   "source": [
    "query = '''\n",
    "select count(*), year\n",
    "from ontime\n",
    "group by year\n",
    "'''\n",
    "flight_year = pd.read_sql(query, conn)"
   ]
  },
  {
   "cell_type": "code",
   "execution_count": 5,
   "metadata": {
    "collapsed": false
   },
   "outputs": [
    {
     "data": {
      "text/html": [
       "<div>\n",
       "<table border=\"1\" class=\"dataframe\">\n",
       "  <thead>\n",
       "    <tr style=\"text-align: right;\">\n",
       "      <th></th>\n",
       "      <th>count(*)</th>\n",
       "      <th>Year</th>\n",
       "    </tr>\n",
       "  </thead>\n",
       "  <tbody>\n",
       "    <tr>\n",
       "      <th>0</th>\n",
       "      <td>7140596</td>\n",
       "      <td>2005</td>\n",
       "    </tr>\n",
       "    <tr>\n",
       "      <th>1</th>\n",
       "      <td>7141922</td>\n",
       "      <td>2006</td>\n",
       "    </tr>\n",
       "    <tr>\n",
       "      <th>2</th>\n",
       "      <td>7453215</td>\n",
       "      <td>2007</td>\n",
       "    </tr>\n",
       "    <tr>\n",
       "      <th>3</th>\n",
       "      <td>7009728</td>\n",
       "      <td>2008</td>\n",
       "    </tr>\n",
       "  </tbody>\n",
       "</table>\n",
       "</div>"
      ],
      "text/plain": [
       "   count(*)  Year\n",
       "0   7140596  2005\n",
       "1   7141922  2006\n",
       "2   7453215  2007\n",
       "3   7009728  2008"
      ]
     },
     "execution_count": 5,
     "metadata": {},
     "output_type": "execute_result"
    }
   ],
   "source": [
    "flight_year.head()\n"
   ]
  },
  {
   "cell_type": "code",
   "execution_count": 6,
   "metadata": {
    "collapsed": false,
    "deletable": false,
    "nbgrader": {
     "checksum": "44eca33987a915aac11a9ccef06c364f",
     "grade": true,
     "grade_id": "flights_by_year",
     "locked": false,
     "points": 10,
     "solution": true
    }
   },
   "outputs": [
    {
     "data": {
      "text/plain": [
       "<matplotlib.text.Text at 0x7fa0b19559b0>"
      ]
     },
     "execution_count": 6,
     "metadata": {},
     "output_type": "execute_result"
    },
    {
     "data": {
      "image/png": "[encoded data removed]",
      "text/plain": [
       "<matplotlib.figure.Figure at 0x7fa0b19c5198>"
      ]
     },
     "metadata": {},
     "output_type": "display_data"
    }
   ],
   "source": [
    "plt.plot(flight_year.Year, flight_year['count(*)'], \"-o\", markersize = 10)\n",
    "plt.xlabel(flight_year.Year)"
   ]
  },
  {
   "cell_type": "markdown",
   "metadata": {},
   "source": [
    "__ANSWER__ yes we can see that the ht eyears 2005 and 2006 had roughly the same amount of flights. There was a huge rise in flights in 2007 by roughly 300,000 flights. IN 2008 though , the amount of flights sharpely declined to a low of 7000000 which is almoast 100,0000 flights less than in 2005. "
   ]
  },
  {
   "cell_type": "markdown",
   "metadata": {
    "collapsed": true,
    "deletable": false,
    "nbgrader": {
     "checksum": "c4573dbe1548165e2270dad7652041a9",
     "grade": false,
     "grade_id": "delay_question",
     "locked": true,
     "solution": false
    }
   },
   "source": [
    "## Question 2 (10 points)\n",
    "\n",
    "What time of day is best to fly if you want to avoid delays? Calculate the average delay by _scheduled_ departure time. What do you notice?"
   ]
  },
  {
   "cell_type": "code",
   "execution_count": 7,
   "metadata": {
    "collapsed": false
   },
   "outputs": [],
   "source": [
    "query = '''\n",
    "select CRSDepTime, AVG(DepDelay) as average_delay, Count(CRSDepTime), (DepDelay -  AVG(DepDelay)) * (DepDelay -  AVG(DepDelay)) as unsqvar\n",
    "from ontime\n",
    "group by CRSDepTime\n",
    "'''\n",
    "avg_delay = pd.read_sql(query, conn)\n",
    "\n"
   ]
  },
  {
   "cell_type": "code",
   "execution_count": 8,
   "metadata": {
    "collapsed": false
   },
   "outputs": [
    {
     "data": {
      "text/html": [
       "<div>\n",
       "<table border=\"1\" class=\"dataframe\">\n",
       "  <thead>\n",
       "    <tr style=\"text-align: right;\">\n",
       "      <th></th>\n",
       "      <th>CRSDepTime</th>\n",
       "      <th>average_delay</th>\n",
       "      <th>Count(CRSDepTime)</th>\n",
       "      <th>unsqvar</th>\n",
       "      <th>var</th>\n",
       "      <th>stddev</th>\n",
       "      <th>lower</th>\n",
       "      <th>upper</th>\n",
       "    </tr>\n",
       "  </thead>\n",
       "  <tbody>\n",
       "    <tr>\n",
       "      <th>140</th>\n",
       "      <td>510</td>\n",
       "      <td>-0.636859</td>\n",
       "      <td>4775</td>\n",
       "      <td>54.215851</td>\n",
       "      <td>0.011354</td>\n",
       "      <td>0.106556</td>\n",
       "      <td>-0.639882</td>\n",
       "      <td>-0.633836</td>\n",
       "    </tr>\n",
       "    <tr>\n",
       "      <th>165</th>\n",
       "      <td>535</td>\n",
       "      <td>-0.368765</td>\n",
       "      <td>14695</td>\n",
       "      <td>11.348577</td>\n",
       "      <td>0.000772</td>\n",
       "      <td>0.027790</td>\n",
       "      <td>-0.369214</td>\n",
       "      <td>-0.368316</td>\n",
       "    </tr>\n",
       "    <tr>\n",
       "      <th>145</th>\n",
       "      <td>515</td>\n",
       "      <td>-0.356584</td>\n",
       "      <td>6136</td>\n",
       "      <td>21.561311</td>\n",
       "      <td>0.003514</td>\n",
       "      <td>0.059278</td>\n",
       "      <td>-0.358068</td>\n",
       "      <td>-0.355101</td>\n",
       "    </tr>\n",
       "  </tbody>\n",
       "</table>\n",
       "</div>"
      ],
      "text/plain": [
       "     CRSDepTime  average_delay  Count(CRSDepTime)    unsqvar       var  \\\n",
       "140         510      -0.636859               4775  54.215851  0.011354   \n",
       "165         535      -0.368765              14695  11.348577  0.000772   \n",
       "145         515      -0.356584               6136  21.561311  0.003514   \n",
       "\n",
       "       stddev     lower     upper  \n",
       "140  0.106556 -0.639882 -0.633836  \n",
       "165  0.027790 -0.369214 -0.368316  \n",
       "145  0.059278 -0.358068 -0.355101  "
      ]
     },
     "execution_count": 8,
     "metadata": {},
     "output_type": "execute_result"
    }
   ],
   "source": [
    "import math\n",
    "from scipy.stats import t \n",
    "from statsmodels.stats.multicomp import pairwise_tukeyhsd\n",
    "avg_delay['var'] = (avg_delay.unsqvar) / avg_delay['Count(CRSDepTime)']\n",
    "avg_delay['stddev'] = avg_delay['var'] ** .5 \n",
    "quart = np.percentile(avg_delay['Count(CRSDepTime)'], 25)\n",
    "\n",
    "\n",
    "avg_delay\n",
    "avg_delay['lower'] = avg_delay.average_delay - (t.ppf(.975, avg_delay['Count(CRSDepTime)']) * (avg_delay.stddev / (avg_delay['Count(CRSDepTime)'] **.5)))\n",
    "avg_delay['upper'] = avg_delay.average_delay +(t.ppf(.975, avg_delay['Count(CRSDepTime)']) * (avg_delay.stddev / (avg_delay['Count(CRSDepTime)'] **.5)))\n",
    "avg_delay[(avg_delay['upper'] < 0) & (avg_delay['Count(CRSDepTime)'] >= quart )].sort_values('upper')\n",
    "\n"
   ]
  },
  {
   "cell_type": "markdown",
   "metadata": {
    "deletable": false,
    "nbgrader": {
     "checksum": "7b22a620a40885f58a3158bb5b24258e",
     "grade": true,
     "grade_id": "delay_response",
     "locked": false,
     "points": 10,
     "solution": true
    }
   },
   "source": [
    "Technically 3:15 AM as the smallest average delay time, however only 7 flights from the data set ever departed this early. With this in mind I wanted to see what flight is actually a better guarantee of being on time. To do this I calculated the the 95% condidence interval for delay for each flight time and subsetted the data frame to just those intervals that were entirely below 0 and had at least a sample size of greater than the 25th percentile. Based on this subset, I would say flights that depart at  5:10 AM are a safe bet to be on time. All of the flight in this subset are safe bets as well, with flights leaving at 5:35 AM having the best track record based on sheer number of flights in this group. "
   ]
  },
  {
   "cell_type": "markdown",
   "metadata": {
    "deletable": false,
    "nbgrader": {
     "checksum": "4601061c00a1fd287ba6458ca4fce036",
     "grade": false,
     "grade_id": "histograms_question",
     "locked": true,
     "solution": false
    }
   },
   "source": [
    "## Question 3 (10 points + 5 points EC)\n",
    "\n",
    "Make two histograms, one showing the distribution of flight times from San Francisco (SFO) to Chicago (ORD) and the other showing the distribution of flight times in the other direction. Show these two histograms on the same plot and make a legend. What do you notice?\n",
    "\n",
    "(Note: This data is small enough that you can pull the raw data and call `.hist()` on it. But for an added challenge, try doing the aggregation in SQL and then making a bar graph, like we did in lecture! You can earn 5 points extra credit if you do it this way.)"
   ]
  },
  {
   "cell_type": "code",
   "execution_count": 9,
   "metadata": {
    "collapsed": false
   },
   "outputs": [],
   "source": [
    "query = '''\n",
    "select Origin, Dest, 10 * ROUND(ActualElapsedTime/ 10) as BucketDep, Count(*)\n",
    "from ontime\n",
    "where (Origin == 'SFO' or Origin == \"ORD\") and (Dest == \"ORD\" or Dest == \"SFO\")\n",
    "group by BucketDep , Origin\n",
    "'''\n",
    "chisanfran = pd.read_sql(query, conn)"
   ]
  },
  {
   "cell_type": "code",
   "execution_count": 10,
   "metadata": {
    "collapsed": false
   },
   "outputs": [
    {
     "data": {
      "text/plain": [
       "5958"
      ]
     },
     "execution_count": 10,
     "metadata": {},
     "output_type": "execute_result"
    },
    {
     "data": {
      "image/png": "[encoded data removed]",
      "text/plain": [
       "<matplotlib.figure.Figure at 0x7fa0aa59a198>"
      ]
     },
     "metadata": {},
     "output_type": "display_data"
    }
   ],
   "source": [
    "c = chisanfran['Count(*)'].max()\n",
    "\n",
    "fig, ax = plt.subplots()\n",
    "plot1 = ax.bar(chisanfran[chisanfran['Origin'] == 'SFO'].BucketDep, chisanfran[chisanfran['Origin'] == 'SFO']['Count(*)'], width = 10,  color = 'r', alpha = .5)\n",
    "#plot1.legend(\"SFO to Ord\")\n",
    "plot2 = ax.bar(chisanfran[chisanfran['Origin'] == 'ORD'].BucketDep, chisanfran[chisanfran['Origin'] == 'ORD']['Count(*)'], width = 10,  color = 'g', alpha = .5)\n",
    "ax.legend((plot1[0], plot2[0]), (\"SFO to ORD\", \"ORD to SFO\"))\n",
    "ax.set_ylabel('Number of Flights')\n",
    "ax.set_xlabel(\"ElapsedTime\")\n",
    "c"
   ]
  },
  {
   "cell_type": "markdown",
   "metadata": {
    "deletable": false,
    "nbgrader": {
     "checksum": "73dba217e46811d336a4655c433d1179",
     "grade": true,
     "grade_id": "histograms_response",
     "locked": false,
     "points": 10,
     "solution": true
    }
   },
   "source": [
    "The elapsed times for flights going from chicago to San Fransico tend to be larger than flights from SFO to ORD. This means typically it takes longer to fly from chicago to san fransico than from san fransicso to chicago."
   ]
  },
  {
   "cell_type": "markdown",
   "metadata": {
    "deletable": false,
    "nbgrader": {
     "checksum": "8dc945c860ac3bf8d1a05ed10d9dcc46",
     "grade": false,
     "grade_id": "older_planes_question",
     "locked": true,
     "solution": false
    }
   },
   "source": [
    "## Question 4 (35 points)\n",
    "\n",
    "Are older planes more likely to be delayed? Make an appropriate graphic and summarize your conclusions in words. (Note: Your exact analysis might differ from your friend's, but your general conclusion should be the same.)\n",
    "\n",
    "Hint: The ages of the planes can be determined using the `YearMfr` column in the `planes` table. Each plane is uniquely identified in the `ontime` table by its tail number (`TailNum`). You will need to look up this tail number in the `NNumber` column in `planes`."
   ]
  },
  {
   "cell_type": "code",
   "execution_count": 11,
   "metadata": {
    "collapsed": false
   },
   "outputs": [],
   "source": [
    "query = '''\n",
    "select YearMfr , TailNum , NNumber , avg(DepDelay), Count(*), (DepDelay -  AVG(DepDelay)) * (DepDelay -  AVG(DepDelay)) as unsqvar\n",
    "from ontime , planes\n",
    "where (TailNum == (\"N\" || NNumber))\n",
    "group by YearMfr\n",
    "'''\n",
    "plane_yr = pd.read_sql(query, conn)"
   ]
  },
  {
   "cell_type": "code",
   "execution_count": 15,
   "metadata": {
    "collapsed": false
   },
   "outputs": [],
   "source": [
    "import seaborn as sns\n",
    "import math\n",
    "copy = plane_yr\n",
    "copy['YearMfr'] = pd.to_numeric(copy['YearMfr'], errors = 'coerce')\n",
    "copy2 = copy[(copy['YearMfr'] != 0.0)]\n"
   ]
  },
  {
   "cell_type": "code",
   "execution_count": 16,
   "metadata": {
    "collapsed": false
   },
   "outputs": [
    {
     "data": {
      "text/plain": [
       "<matplotlib.axes._subplots.AxesSubplot at 0x7fa0a9936ac8>"
      ]
     },
     "execution_count": 16,
     "metadata": {},
     "output_type": "execute_result"
    },
    {
     "data": {
      "image/png": "[encoded data removed]",
      "text/plain": [
       "<matplotlib.figure.Figure at 0x7fa0a9938be0>"
      ]
     },
     "metadata": {},
     "output_type": "display_data"
    }
   ],
   "source": [
    "copy2\n",
    "sns.regplot(x ='YearMfr', y = 'avg(DepDelay)' , data = copy2)"
   ]
  },
  {
   "cell_type": "markdown",
   "metadata": {
    "deletable": false,
    "nbgrader": {
     "checksum": "749b3c88dfcf15148ac176f428c12a00",
     "grade": true,
     "grade_id": "older_planes_response",
     "locked": false,
     "points": 35,
     "solution": true
    }
   },
   "source": [
    "I based on the regression plot above, I wouldnt say that older planes are necessarily more inclined to be delayed than newer planes or vice versa. The regression line fit to the data is almost flat meaning there is very little correlation bestween year of the plane and avergage delay. "
   ]
  },
  {
   "cell_type": "markdown",
   "metadata": {
    "deletable": false,
    "nbgrader": {
     "checksum": "2ec0511227d6bece7e9b61f1d2b256c7",
     "grade": false,
     "grade_id": "missing_question",
     "locked": true,
     "solution": false
    }
   },
   "source": [
    "## Question 5 (20 points)\n",
    "\n",
    "Let's think about the impact of missing data on your answer to Question 4. First, answer the following:\n",
    "\n",
    "- What percentage of planes in the `ontime` table were missing from the `planes` table?\n",
    "- What percentage of flights in the `ontime` table had planes that were missing from the `planes` table?\n",
    "\n",
    "(You should think carefully about the difference between these two questions.) Then, answer the following:\n",
    "\n",
    "- How could this missing data bias your conclusion about the relationship between the age of a plane and flight delays?"
   ]
  },
  {
   "cell_type": "code",
   "execution_count": 3,
   "metadata": {
    "collapsed": false
   },
   "outputs": [],
   "source": [
    "query = '''\n",
    "select TailNum, Count(*)\n",
    "from ontime\n",
    "group by TailNum\n",
    "'''\n",
    "planecount = pd.read_sql(query, conn)"
   ]
  },
  {
   "cell_type": "code",
   "execution_count": 4,
   "metadata": {
    "collapsed": true
   },
   "outputs": [],
   "source": [
    "query2 = '''\n",
    "select  TailNum , NNumber, Count(*)\n",
    "from ontime, planes\n",
    "where TailNum = (\"N\" || NNUmber)\n",
    "group by TailNum\n",
    "'''\n",
    "\n",
    "plane2 = pd.read_sql(query2, conn)"
   ]
  },
  {
   "cell_type": "code",
   "execution_count": 7,
   "metadata": {
    "collapsed": false
   },
   "outputs": [
    {
     "name": "stdout",
     "output_type": "stream",
     "text": [
      " flights in the ontime table had planes that were missing from the planes table 0.334893\n",
      "percentage of planes in the ontime table were missing from the planes table 0.411623\n"
     ]
    }
   ],
   "source": [
    "\n",
    "planes = 1 - plane2['TailNum'].count() / planecount['TailNum'].count()\n",
    "flights = 1 - plane2['Count(*)'].sum() / planecount['Count(*)'].sum()\n",
    "\n",
    "print(\" flights in the ontime table had planes that were missing from the planes table %f\" % flights)\n",
    "print(\"percentage of planes in the ontime table were missing from the planes table %f\" % planes)"
   ]
  },
  {
   "cell_type": "markdown",
   "metadata": {
    "deletable": false,
    "nbgrader": {
     "checksum": "93b639631865bb6398ac7fa81f75328c",
     "grade": true,
     "grade_id": "missing_response",
     "locked": false,
     "points": 20,
     "solution": true
    }
   },
   "source": [
    "The data could be heavily biased if the 33 % of flights that were missing from the planes table were from a specific narrow interval of time. The percentage calculated indicate tha there are quite a few plane models and flights unaccounted for in the final data set and if there ius a reason ffor this such as bad reporting in the early data keeping then the answers could be heavily biased. PErhaps if we had less missing data we would of seen a difference between the average delay and across years. "
   ]
  },
  {
   "cell_type": "markdown",
   "metadata": {},
   "source": [
    "## Submitting this Lab\n",
    "\n",
    "Now, restart your kernel and re-run your entire notebook from beginning to end. Make sure there are no errors or bugs. When you have verified this, open the Terminal on JupyterHub and type \n",
    "\n",
    "`nbgrader submit Lab-04-26 --course dlsun`\n",
    "\n",
    "to submit this lab."
   ]
  }
 ],
 "metadata": {
  "kernelspec": {
   "display_name": "Python 3",
   "language": "python",
   "name": "python3"
  },
  "language_info": {
   "codemirror_mode": {
    "name": "ipython",
    "version": 3
   },
   "file_extension": ".py",
   "mimetype": "text/x-python",
   "name": "python",
   "nbconvert_exporter": "python",
   "pygments_lexer": "ipython3",
   "version": "3.4.3"
  }
 },
 "nbformat": 4,
 "nbformat_minor": 0
}
