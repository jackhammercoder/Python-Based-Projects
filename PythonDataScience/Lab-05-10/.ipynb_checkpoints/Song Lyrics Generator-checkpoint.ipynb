{
 "cells": [
  {
   "cell_type": "markdown",
   "metadata": {},
   "source": [
    "# Song Lyrics Generator\n",
    "## Due Tuesday, May 17 at 8 AM\n",
    "\n",
    "In this lab, you will scrape the web to get lyrics from your favorite artist. Then, you will train a Markov Chain model on these lyrics. Finally, you will use your Markov chain to generate new (random) lyrics."
   ]
  },
  {
   "cell_type": "markdown",
   "metadata": {
    "deletable": false,
    "nbgrader": {
     "checksum": "8df71135a614086706cabada8726e93c",
     "grade": false,
     "grade_id": "scraping_question",
     "locked": true,
     "solution": false
    }
   },
   "source": [
    "## Question 1: Web Scraping (40 points)\n",
    "\n",
    "Find a website that has lyrics for all the songs by your favorite artists. Then scrape the lyrics into a Python list called `lyrics`, where each element of the list represents the lyrics of one song.\n",
    "\n",
    "Tips:\n",
    "- Find a webpage that has links to all the songs, like [this one](http://www.azlyrics.com/n/nirvana.html). [NOTE: It seems like azlyrics.com does not allow you to scrape their webpages, so you'll have to find another source.] Then, you can write code to visit all the links and scrape each page one by one.\n",
    "- Make sure you use time.sleep(0.1) to stagger your requests so that you do not get banned by the website for making too many requests."
   ]
  },
  {
   "cell_type": "code",
   "execution_count": 1,
   "metadata": {
    "collapsed": false,
    "deletable": false,
    "nbgrader": {
     "checksum": "8b0f1f3431f049e55c81b3212fffbd67",
     "grade": true,
     "grade_id": "scraping_code",
     "locked": false,
     "points": 40,
     "solution": true
    }
   },
   "outputs": [],
   "source": [
    "import requests\n",
    "import time\n",
    "from bs4 import BeautifulSoup\n",
    "import bs4\n",
    "import re\n",
    "lyrics = []\n",
    "\n",
    "indexpage = requests.get(\"http://www.allthelyrics.com/lyrics/prince\")\n",
    "indexsource = BeautifulSoup(indexpage.text, \"html.parser\")\n",
    "links = indexsource.find_all(\"div\")[8].find_all(\"a\")\n",
    "time.sleep(0.1)\n",
    "for i in range(42,142):\n",
    "    link = \"http://www.allthelyrics.com\" + links[i][\"href\"]\n",
    "    lyric_page = requests.get(link)\n",
    "    lyric_source = BeautifulSoup(lyric_page.text, \"html.parser\")\n",
    "    lyric_string = str(lyric_source.findAll(\"div\", { \"class\" : \"content-text-inner\" })[0])\n",
    "    lyric_string = re.sub(\"\\[(\\s|\\S)*?\\]\", \"\", lyric_string)\n",
    "    lyric_string = re.sub(\"x[0-9]\", \"\", lyric_string)\n",
    "    lyric_string = re.sub(\"<(\\s|\\S)*?>\", \"\", lyric_string)\n",
    "    lyric_string = re.sub(\"\\((\\s|\\S)*?\\)\", \"\", lyric_string)\n",
    "    lyric_string = re.sub(\"\\{(\\s|\\S)*?\\}\", \"\", lyric_string)\n",
    "    lyric_string = re.sub(\"chorus|Chorus|CHORUS\", \"\", lyric_string)\n",
    "    lyric_string = re.sub(r'[\\t\\ ]+', ' ', lyric_string)\n",
    "    lyric_string = lyric_string.strip()\n",
    "    lyrics.append(lyric_string)\n",
    "    time.sleep(0.1)"
   ]
  },
  {
   "cell_type": "code",
   "execution_count": 2,
   "metadata": {
    "collapsed": false,
    "deletable": false,
    "nbgrader": {
     "checksum": "fc30426e397a9a8fd5e5386ba96c683d",
     "grade": false,
     "grade_id": "scraping_run",
     "locked": true,
     "solution": false
    }
   },
   "outputs": [
    {
     "name": "stdout",
     "output_type": "stream",
     "text": [
      "If u ain't got no place 2 stay\n",
      "Come on baby 'round this way\n",
      "Stay with me baby\n",
      "But let me tell u how it's gonna b\n",
      "There's a theocratic order.\n",
      "There's a theocratic order now\n",
      "This is how it's gonna b\n",
      "If u wanna b with me\n",
      "Ain't no room 4 disagree\n",
      "1+1+1 is 3\n",
      "Take ur time and think it thru\n",
      "If this is what u wanna do\n",
      "I ain't really that hard 2 please\n",
      "Cuz 1+1+1 is 3\n",
      "Stroke ur hair a hundred times\n",
      "Let me c what I can find\n",
      "D u know about the order.\n",
      "Do u know about the order, now?\n",
      "The Banished Ones:\n",
      "\"We are the Banished Ones and we have come 2 dance\n",
      "If u will not let us, we'll have 2 kick ur pants!\"\n",
      "Who's that knockin' on r door?\n",
      "Didn't we throw u out b4?\n",
      "I'm 'bout 2 get rowdy!\n",
      "I'm 'bout 2 get rowdy, now!\n",
      "Make me wanna do something.\n",
      "We could b surrounded in the palace\n",
      "\"Everybody wants 2 get u!\"\n",
      "I don't care\n",
      "How many y'all just came 2 dance?\n",
      "Let me c u shake ur pants\n",
      "We don't give a duck what u got on\n",
      "U just need 2 work that sexy body all nite long\n",
      "Come on\n",
      "Where them Banished Ones at?\n",
      "\"Said they 'round the back\"\n",
      "Don't cut 'em no slack\n",
      "\"I'm gon' tap, tap, tap\"\n",
      "But should I keep this party going?\n",
      "\"Brotha u know that!\"\n",
      "Moneyapolis, sing-Rainbow Children, raise ur hands\n",
      "If we can't do it, nobody can!\n",
      "Here they come y'all\n",
      "Rally 'round the palace now\n",
      "U know what we got 2 do!\n",
      "How'd that fool get up in here?\n",
      "Snagglevoice.\n"
     ]
    }
   ],
   "source": [
    "print(lyrics[0])"
   ]
  },
  {
   "cell_type": "code",
   "execution_count": null,
   "metadata": {
    "collapsed": true
   },
   "outputs": [],
   "source": []
  },
  {
   "cell_type": "markdown",
   "metadata": {
    "deletable": false,
    "nbgrader": {
     "checksum": "4b8fe5616cb00080761bc16bef2ca080",
     "grade": false,
     "grade_id": "markov_question",
     "locked": true,
     "solution": false
    }
   },
   "source": [
    "## Question 2: Training a Markov Chain (30 points)\n",
    "\n",
    "Markov chains are mathematical systems that hop (a.k.a. \"transition\") randomly between various states. Please read [this visual explanation](http://setosa.io/ev/markov-chains/) for a high-level overview. The distinguishing feature of a Markov chain is that the next state only depends on which state the chain is in now; it doesn't depend on the past history of the chain.\n",
    "\n",
    "We can use Markov chains to model human language. Each word is a \"state\", and the next word in a sentence only depends on the current word, not any words that came before. This model makes sense because if we know that the current word is \"it\", the next word is very likely to be \"is\", less likely to be \"runs\", and never going to be \"pineapple\". On the other hand, if the current word is \"the\", then the next word might be \"pineapple\", but it can't be \"is\". The current word tells us a lot about what the next word might be.\n",
    "\n",
    "We will build a Markov chain model for the artist whose lyrics you scraped in Question 1. To do this, we have to go through the lyrics and learn the word transitions for that artist. We will store this information in a dict called `transitions`, which maps each word to a list of words that appear after it in the training data. So for example, one entry of this dict might be\n",
    "\n",
    "```\n",
    "transitions = {\n",
    "    \"it\": [\"is\", \"runs\", \"is\", \"is\", \"was\", \"is\", \"was\"],\n",
    "    ...\n",
    "}\n",
    "```\n",
    "\n",
    "You should include a few additional states, besides words, in your Markov chain. You should have `\"<START>\"` and `\"<END>\"` states so that we can keep track of what words songs are likely to begin and end on.  So if the song starts on the word \"it\" and ends with the word \"me.\", you would have \n",
    "```\n",
    "transitions = {\n",
    "    \"<START>\": [\"it\", ...],\n",
    "    \"me.\": [\"<END>\", ...],\n",
    "    ...\n",
    "}\n",
    "```\n",
    "You should also include a state called `\"<N>\"` to denote line breaks so that we know where lines begin and end."
   ]
  },
  {
   "cell_type": "code",
   "execution_count": 3,
   "metadata": {
    "collapsed": false,
    "deletable": false,
    "nbgrader": {
     "checksum": "e9a1dd283b5141896f6486e5e5657744",
     "grade": true,
     "grade_id": "markov_code",
     "locked": false,
     "points": 30,
     "solution": true
    }
   },
   "outputs": [],
   "source": [
    "def train_markov_chain(lyrics):\n",
    "    transitions = {\"<START>\": []}\n",
    "    transitions[\"<N>\"] = []\n",
    "    for lyric in lyrics:\n",
    "        lines = re.split(\"\\n\", lyric)\n",
    "        filtered_lines = []\n",
    "        for line in lines:\n",
    "            if line != '':\n",
    "                filtered_lines.append(line)\n",
    "        for j in range(0, len(filtered_lines)):\n",
    "            words = re.split(\" \", filtered_lines[j])\n",
    "            for k in range(0,len(words)):\n",
    "                if (k == 0 and j == 0):\n",
    "                    transitions[\"<START>\"].append(words[k])\n",
    "                if (k == len(words) - 1 and j < len(filtered_lines) -1):\n",
    "                    transitions[\"<N>\"].append(re.split(\" \", filtered_lines[j+1])[0])\n",
    "                if words[k] not in transitions:\n",
    "                    if (k < len(words)-1):\n",
    "                        transitions[words[k]] = [words[k+1]]\n",
    "                    if (j < len(filtered_lines) -1 and k == len(words)-1 ):\n",
    "                        transitions[words[k]] = [\"<N>\"]\n",
    "                    if (k == len(words) -1 and j == len(filtered_lines) - 1):\n",
    "                        transitions[words[k]] = [\"<END>\"]\n",
    "                else:\n",
    "                    if (k < len(words)-1):\n",
    "                        transitions[words[k]].append(words[k+1])\n",
    "                    if (j < len(filtered_lines) -1 and k == len(words)-1):\n",
    "                        transitions[words[k]].append(\"<N>\")\n",
    "                    if (k == len(words) -1 and j == len(filtered_lines) - 1):\n",
    "                        transitions[words[k]].append(\"<END>\")\n",
    "    return transitions"
   ]
  },
  {
   "cell_type": "code",
   "execution_count": 4,
   "metadata": {
    "collapsed": false,
    "deletable": false,
    "nbgrader": {
     "checksum": "758a29bdb5b7a2a46121de8b5a64575d",
     "grade": false,
     "grade_id": "markov_run",
     "locked": true,
     "solution": false
    }
   },
   "outputs": [
    {
     "name": "stdout",
     "output_type": "stream",
     "text": [
      "['If', 'Called', '18', \"Don't\", 'I', 'Serve', 'Ha', 'Who', 'How', 'Yeah', 'Well,', 'If', 'One', \"'Bout\", 'Using', 'Long', 'Long', 'It', \"It's\", 'Performed']\n",
      "['Come', 'Stay', 'But', \"There's\", \"There's\", 'This', 'If', \"Ain't\", '1+1+1', 'Take', 'If', 'I', 'Cuz', 'Stroke', 'Let', 'D', 'Do', 'The', '\"We', 'If']\n"
     ]
    }
   ],
   "source": [
    "chain = train_markov_chain(lyrics)\n",
    "print(chain[\"<START>\"][:20])\n",
    "print(chain[\"<N>\"][:20])"
   ]
  },
  {
   "cell_type": "markdown",
   "metadata": {
    "deletable": false,
    "nbgrader": {
     "checksum": "4217ea6dbe3e892653c1f624dc5a77dc",
     "grade": false,
     "grade_id": "random_question",
     "locked": true,
     "solution": false
    }
   },
   "source": [
    "## Question 3: Generating New Lyrics (20 points)\n",
    "\n",
    "Finally, let's generate new lyrics using the Markov chain you constructed in Question 2. To do this, we'll begin at the `\"<START>\"` state and randomly sample a word from the list of first words. Then, we'll randomly sample each next word from the list of words that appeared after the current word in the training data. We will continue this until we reach the `\"<END>\"` state. This will give us the complete lyrics of a randomly generated song!\n",
    "\n",
    "You may find the `choice()` function in the `random` package helpful for this question."
   ]
  },
  {
   "cell_type": "code",
   "execution_count": 13,
   "metadata": {
    "collapsed": false,
    "deletable": false,
    "nbgrader": {
     "checksum": "c6d1f3494131b27ecf5d88043ff5ab21",
     "grade": true,
     "grade_id": "random_code",
     "locked": false,
     "points": 20,
     "solution": true
    }
   },
   "outputs": [],
   "source": [
    "import random\n",
    "\n",
    "def generate_new_lyrics(chain):\n",
    "    # a list for storing the generated words\n",
    "    words = []\n",
    "    # generate the first word\n",
    "    words.append(random.choice(chain[\"<START>\"]))\n",
    "    word = words[0]\n",
    "    counter = 1\n",
    "    while(word != \"<END>\"):\n",
    "        words.append(random.choice(chain[word]))\n",
    "        word = words[counter]\n",
    "        counter = counter + 1\n",
    "    # join the words together into a string with line breaks\n",
    "    lyrics = \" \".join(words[:-1])\n",
    "    return \"\\n\".join(lyrics.split(\"<N>\"))"
   ]
  },
  {
   "cell_type": "code",
   "execution_count": 14,
   "metadata": {
    "collapsed": false,
    "deletable": false,
    "nbgrader": {
     "checksum": "a317d31345874d0d5022f6d63fddf0ed",
     "grade": false,
     "grade_id": "random_run",
     "locked": true,
     "solution": false
    }
   },
   "outputs": [
    {
     "name": "stdout",
     "output_type": "stream",
     "text": [
      "Long hard as I like this where it's just bang on my life \n",
      " But I'm the police  \n",
      " June brought an answer your lovely face \n",
      " Put on girl \n",
      " And I'm about 2 U? \n",
      " Until I was finally rub your eyes \n",
      " A hundred fifty dollar glasses though awakened from the end of \n",
      " Dance, dance on a day \n",
      " Everybody say, say no more than a million days \n",
      " Thank you some of \n",
      " Let the whores \n",
      " Praise me,  \n",
      " I need another lover like the phone!\" \n",
      " Black night \n",
      " Get your own ideas! \n",
      " Do Me Baby, u could I knew U when U better dead, they  \n",
      " Get freaky, let that night long, deep blue sea \n",
      " Take a word, we gonna do? \n",
      " WORK! \n",
      " Fly with a man \n",
      " night./Damn! \n",
      " Oh yeah! \n",
      "  \n",
      " Then cuddle up the herbs help me \n",
      " but they only one thing I might be killin' one \n",
      " Let the mass illusion, war drums beat you right \n",
      " Like the Johnny's slippery, we'll unlock the tears \n",
      " In your body  - Daddy Pop Daddy Pop Daddy - Go go \n",
      " Damned if your face in God? Do I ain't funkin' just 4 that I'd dig U more time \n",
      " U don't wanna show no me see your right \n",
      " Get freaky, get better dead \n",
      " 4 U need a bite the system, U better dead, I'd like a time \n",
      " Hey, we be 117 \n",
      " In a game, we're all said \"I'd dig U my download \n",
      " A-havin' it, do me all around \n",
      " Cindy, shit 2gether, straight up real pretty song with Delores \n",
      " Pop is like the trip one left your eyes just gotta scream and me anymore \n",
      " If U better yet, why is my behaviour \n",
      " Daddy Pop guns and 4 the man with me  \n",
      " Hey, take a heat \n",
      " U oughtta babe, U at the head   \n",
      " U end as the things that another turn-on. \n",
      " Nice and sisters \n",
      " I've ever after the only way about \n",
      " Another victim of law\" \n",
      " If this shit like the Crystal Ball \n",
      " Maybe we make her perfume... it \n",
      " Circle Of Amore \n",
      " Do it damn \n",
      " Put your foot on a light \n",
      " The serpent approves \n",
      " Why do things people be. 3121. \n",
      " It's time \n",
      " \"She's great, isn't she?\" \n",
      " Then appears between Adam's thighs \n",
      " Could have got 2 play nobody stop  \n",
      " Do your hands in the band said \n",
      " That can do \n",
      " Oh yes \n",
      " I hear U need  \n",
      " La, la, la, la, la, la, la, la \n",
      " What if I guess with the friends this is serious \n",
      " Why? \n",
      " It's courtin' time! \n",
      " Don't stop fooling around \n",
      " They'll come back forever, forever\n"
     ]
    }
   ],
   "source": [
    "print(generate_new_lyrics(chain))"
   ]
  },
  {
   "cell_type": "code",
   "execution_count": null,
   "metadata": {
    "collapsed": true
   },
   "outputs": [],
   "source": []
  }
 ],
 "metadata": {
  "kernelspec": {
   "display_name": "Python 3",
   "language": "python",
   "name": "python3"
  },
  "language_info": {
   "codemirror_mode": {
    "name": "ipython",
    "version": 3
   },
   "file_extension": ".py",
   "mimetype": "text/x-python",
   "name": "python",
   "nbconvert_exporter": "python",
   "pygments_lexer": "ipython3",
   "version": "3.4.3"
  }
 },
 "nbformat": 4,
 "nbformat_minor": 0
}
